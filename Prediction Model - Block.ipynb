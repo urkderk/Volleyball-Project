{
  "nbformat": 4,
  "nbformat_minor": 0,
  "metadata": {
    "colab": {
      "name": "Prediction Model Height vs Block.ipynb",
      "provenance": [],
      "authorship_tag": "ABX9TyMtjAnJJntNt1UCAFxTLZMv",
      "include_colab_link": true
    },
    "kernelspec": {
      "name": "python3",
      "display_name": "Python 3"
    },
    "language_info": {
      "name": "python"
    }
  },
  "cells": [
    {
      "cell_type": "markdown",
      "metadata": {
        "id": "view-in-github",
        "colab_type": "text"
      },
      "source": [
        "<a href=\"https://colab.research.google.com/github/urkderk/Volleyball-Project/blob/main/Prediction%20Model%20-%20Block.ipynb\" target=\"_parent\"><img src=\"https://colab.research.google.com/assets/colab-badge.svg\" alt=\"Open In Colab\"/></a>"
      ]
    },
    {
      "cell_type": "code",
      "execution_count": 1,
      "metadata": {
        "id": "A-M4AwCtOfyT",
        "colab": {
          "base_uri": "https://localhost:8080/"
        },
        "outputId": "3552d88a-447a-4c2f-8a47-a5fe3e009286"
      },
      "outputs": [
        {
          "output_type": "stream",
          "name": "stderr",
          "text": [
            "/usr/local/lib/python3.7/dist-packages/statsmodels/tools/_testing.py:19: FutureWarning: pandas.util.testing is deprecated. Use the functions in the public API at pandas.testing instead.\n",
            "  import pandas.util.testing as tm\n"
          ]
        }
      ],
      "source": [
        "# special IPython command to prepare the notebook for matplotlib\n",
        "%matplotlib inline \n",
        "\n",
        "import numpy as np\n",
        "import pandas as pd\n",
        "import scipy.stats as stats\n",
        "import matplotlib.pyplot as plt\n",
        "import sklearn\n",
        "import statsmodels.api as sm\n",
        "\n",
        "import seaborn as sns\n",
        "sns.set_theme(style=\"whitegrid\")\n",
        "\n",
        "# special matplotlib argument for improved plots\n",
        "from matplotlib import rcParams\n",
        "import sys\n",
        "import os\n"
      ]
    },
    {
      "cell_type": "code",
      "source": [
        "vball_df = pd.read_csv('clean_data.csv', encoding='unicode_escape')\n",
        "vball_df = vball_df[vball_df.columns.difference(['index'])]\n",
        "vball_df = vball_df[vball_df.columns.difference(['date_of_birth'])]\n",
        "vball_df = vball_df[vball_df.columns.difference(['name'])]\n",
        "vball_df.head(50)"
      ],
      "metadata": {
        "id": "Zfme-xw4zmxe",
        "colab": {
          "base_uri": "https://localhost:8080/",
          "height": 1000
        },
        "outputId": "73682af2-3ec9-450c-92f7-e4e17664bc4a"
      },
      "execution_count": 2,
      "outputs": [
        {
          "output_type": "execute_result",
          "data": {
            "text/plain": [
              "    block  country  height  position_number  spike  weight\n",
              "0     305       23     193                3    320      80\n",
              "1     284       23     182                1    295      71\n",
              "2     296       23     190                2    306      72\n",
              "3     278       23     176                6    288      62\n",
              "4     275       23     181                1    290      70\n",
              "5     297       23     186                3    306      67\n",
              "6     295       23     188                2    305      72\n",
              "7     297       23     187                3    305      78\n",
              "8     298       23     187                2    305      80\n",
              "9     300       23     190                4    315      67\n",
              "10    275       23     195                2    305      69\n",
              "11    296       23     187                4    300      79\n",
              "12    286       10     182                2    304      73\n",
              "13    281       10     175                2    292      72\n",
              "14    284       10     191                4    291      79\n",
              "15    285       10     181                3    301      71\n",
              "16    285       10     181                2    296      75\n",
              "17    281       10     182                3    296      75\n",
              "18    284       10     187                3    295      69\n",
              "19    289       10     187                4    306      72\n",
              "20    272       10     172                1    275      69\n",
              "21    274       10     171                6    275      70\n",
              "22    285       10     184                1    297      67\n",
              "23    276       10     186                3    287      80\n",
              "24    295       16     177                2    301      61\n",
              "25    278       16     175                1    293      70\n",
              "26    282       16     177                3    292      60\n",
              "27    283       16     172                4    294      60\n",
              "28    283       16     176                3    293      64\n",
              "29    290       16     176                3    297      66\n",
              "30    272       16     167                6    280      60\n",
              "31    290       16     168                2    300      64\n",
              "32    283       16     173                1    293      70\n",
              "33    284       16     178                2    287      66\n",
              "34    286       16     173                2    296      63\n",
              "35    253        9     162                2    263      62\n",
              "36    280        9     180                2    290      72\n",
              "37    280        9     184                3    290      60\n",
              "38    280        9     182                1    287      73\n",
              "39    300        9     190                4    308      75\n",
              "40    285        9     186                3    290      72\n",
              "41    281        9     185                2    296      67\n",
              "42    288        9     184                2    305      71\n",
              "43    280        9     180                2    299      67\n",
              "44    282        9     177                2    290      70\n",
              "45    279        9     183                3    287      62\n",
              "46    255        9     170                6    271      56\n",
              "47    270        9     175                1    280      65\n",
              "48    285       24     190                3    290      85\n",
              "49    275       24     175                1    285      57"
            ],
            "text/html": [
              "\n",
              "  <div id=\"df-f603b9ca-f262-4d61-b9e9-804751f96f32\">\n",
              "    <div class=\"colab-df-container\">\n",
              "      <div>\n",
              "<style scoped>\n",
              "    .dataframe tbody tr th:only-of-type {\n",
              "        vertical-align: middle;\n",
              "    }\n",
              "\n",
              "    .dataframe tbody tr th {\n",
              "        vertical-align: top;\n",
              "    }\n",
              "\n",
              "    .dataframe thead th {\n",
              "        text-align: right;\n",
              "    }\n",
              "</style>\n",
              "<table border=\"1\" class=\"dataframe\">\n",
              "  <thead>\n",
              "    <tr style=\"text-align: right;\">\n",
              "      <th></th>\n",
              "      <th>block</th>\n",
              "      <th>country</th>\n",
              "      <th>height</th>\n",
              "      <th>position_number</th>\n",
              "      <th>spike</th>\n",
              "      <th>weight</th>\n",
              "    </tr>\n",
              "  </thead>\n",
              "  <tbody>\n",
              "    <tr>\n",
              "      <th>0</th>\n",
              "      <td>305</td>\n",
              "      <td>23</td>\n",
              "      <td>193</td>\n",
              "      <td>3</td>\n",
              "      <td>320</td>\n",
              "      <td>80</td>\n",
              "    </tr>\n",
              "    <tr>\n",
              "      <th>1</th>\n",
              "      <td>284</td>\n",
              "      <td>23</td>\n",
              "      <td>182</td>\n",
              "      <td>1</td>\n",
              "      <td>295</td>\n",
              "      <td>71</td>\n",
              "    </tr>\n",
              "    <tr>\n",
              "      <th>2</th>\n",
              "      <td>296</td>\n",
              "      <td>23</td>\n",
              "      <td>190</td>\n",
              "      <td>2</td>\n",
              "      <td>306</td>\n",
              "      <td>72</td>\n",
              "    </tr>\n",
              "    <tr>\n",
              "      <th>3</th>\n",
              "      <td>278</td>\n",
              "      <td>23</td>\n",
              "      <td>176</td>\n",
              "      <td>6</td>\n",
              "      <td>288</td>\n",
              "      <td>62</td>\n",
              "    </tr>\n",
              "    <tr>\n",
              "      <th>4</th>\n",
              "      <td>275</td>\n",
              "      <td>23</td>\n",
              "      <td>181</td>\n",
              "      <td>1</td>\n",
              "      <td>290</td>\n",
              "      <td>70</td>\n",
              "    </tr>\n",
              "    <tr>\n",
              "      <th>5</th>\n",
              "      <td>297</td>\n",
              "      <td>23</td>\n",
              "      <td>186</td>\n",
              "      <td>3</td>\n",
              "      <td>306</td>\n",
              "      <td>67</td>\n",
              "    </tr>\n",
              "    <tr>\n",
              "      <th>6</th>\n",
              "      <td>295</td>\n",
              "      <td>23</td>\n",
              "      <td>188</td>\n",
              "      <td>2</td>\n",
              "      <td>305</td>\n",
              "      <td>72</td>\n",
              "    </tr>\n",
              "    <tr>\n",
              "      <th>7</th>\n",
              "      <td>297</td>\n",
              "      <td>23</td>\n",
              "      <td>187</td>\n",
              "      <td>3</td>\n",
              "      <td>305</td>\n",
              "      <td>78</td>\n",
              "    </tr>\n",
              "    <tr>\n",
              "      <th>8</th>\n",
              "      <td>298</td>\n",
              "      <td>23</td>\n",
              "      <td>187</td>\n",
              "      <td>2</td>\n",
              "      <td>305</td>\n",
              "      <td>80</td>\n",
              "    </tr>\n",
              "    <tr>\n",
              "      <th>9</th>\n",
              "      <td>300</td>\n",
              "      <td>23</td>\n",
              "      <td>190</td>\n",
              "      <td>4</td>\n",
              "      <td>315</td>\n",
              "      <td>67</td>\n",
              "    </tr>\n",
              "    <tr>\n",
              "      <th>10</th>\n",
              "      <td>275</td>\n",
              "      <td>23</td>\n",
              "      <td>195</td>\n",
              "      <td>2</td>\n",
              "      <td>305</td>\n",
              "      <td>69</td>\n",
              "    </tr>\n",
              "    <tr>\n",
              "      <th>11</th>\n",
              "      <td>296</td>\n",
              "      <td>23</td>\n",
              "      <td>187</td>\n",
              "      <td>4</td>\n",
              "      <td>300</td>\n",
              "      <td>79</td>\n",
              "    </tr>\n",
              "    <tr>\n",
              "      <th>12</th>\n",
              "      <td>286</td>\n",
              "      <td>10</td>\n",
              "      <td>182</td>\n",
              "      <td>2</td>\n",
              "      <td>304</td>\n",
              "      <td>73</td>\n",
              "    </tr>\n",
              "    <tr>\n",
              "      <th>13</th>\n",
              "      <td>281</td>\n",
              "      <td>10</td>\n",
              "      <td>175</td>\n",
              "      <td>2</td>\n",
              "      <td>292</td>\n",
              "      <td>72</td>\n",
              "    </tr>\n",
              "    <tr>\n",
              "      <th>14</th>\n",
              "      <td>284</td>\n",
              "      <td>10</td>\n",
              "      <td>191</td>\n",
              "      <td>4</td>\n",
              "      <td>291</td>\n",
              "      <td>79</td>\n",
              "    </tr>\n",
              "    <tr>\n",
              "      <th>15</th>\n",
              "      <td>285</td>\n",
              "      <td>10</td>\n",
              "      <td>181</td>\n",
              "      <td>3</td>\n",
              "      <td>301</td>\n",
              "      <td>71</td>\n",
              "    </tr>\n",
              "    <tr>\n",
              "      <th>16</th>\n",
              "      <td>285</td>\n",
              "      <td>10</td>\n",
              "      <td>181</td>\n",
              "      <td>2</td>\n",
              "      <td>296</td>\n",
              "      <td>75</td>\n",
              "    </tr>\n",
              "    <tr>\n",
              "      <th>17</th>\n",
              "      <td>281</td>\n",
              "      <td>10</td>\n",
              "      <td>182</td>\n",
              "      <td>3</td>\n",
              "      <td>296</td>\n",
              "      <td>75</td>\n",
              "    </tr>\n",
              "    <tr>\n",
              "      <th>18</th>\n",
              "      <td>284</td>\n",
              "      <td>10</td>\n",
              "      <td>187</td>\n",
              "      <td>3</td>\n",
              "      <td>295</td>\n",
              "      <td>69</td>\n",
              "    </tr>\n",
              "    <tr>\n",
              "      <th>19</th>\n",
              "      <td>289</td>\n",
              "      <td>10</td>\n",
              "      <td>187</td>\n",
              "      <td>4</td>\n",
              "      <td>306</td>\n",
              "      <td>72</td>\n",
              "    </tr>\n",
              "    <tr>\n",
              "      <th>20</th>\n",
              "      <td>272</td>\n",
              "      <td>10</td>\n",
              "      <td>172</td>\n",
              "      <td>1</td>\n",
              "      <td>275</td>\n",
              "      <td>69</td>\n",
              "    </tr>\n",
              "    <tr>\n",
              "      <th>21</th>\n",
              "      <td>274</td>\n",
              "      <td>10</td>\n",
              "      <td>171</td>\n",
              "      <td>6</td>\n",
              "      <td>275</td>\n",
              "      <td>70</td>\n",
              "    </tr>\n",
              "    <tr>\n",
              "      <th>22</th>\n",
              "      <td>285</td>\n",
              "      <td>10</td>\n",
              "      <td>184</td>\n",
              "      <td>1</td>\n",
              "      <td>297</td>\n",
              "      <td>67</td>\n",
              "    </tr>\n",
              "    <tr>\n",
              "      <th>23</th>\n",
              "      <td>276</td>\n",
              "      <td>10</td>\n",
              "      <td>186</td>\n",
              "      <td>3</td>\n",
              "      <td>287</td>\n",
              "      <td>80</td>\n",
              "    </tr>\n",
              "    <tr>\n",
              "      <th>24</th>\n",
              "      <td>295</td>\n",
              "      <td>16</td>\n",
              "      <td>177</td>\n",
              "      <td>2</td>\n",
              "      <td>301</td>\n",
              "      <td>61</td>\n",
              "    </tr>\n",
              "    <tr>\n",
              "      <th>25</th>\n",
              "      <td>278</td>\n",
              "      <td>16</td>\n",
              "      <td>175</td>\n",
              "      <td>1</td>\n",
              "      <td>293</td>\n",
              "      <td>70</td>\n",
              "    </tr>\n",
              "    <tr>\n",
              "      <th>26</th>\n",
              "      <td>282</td>\n",
              "      <td>16</td>\n",
              "      <td>177</td>\n",
              "      <td>3</td>\n",
              "      <td>292</td>\n",
              "      <td>60</td>\n",
              "    </tr>\n",
              "    <tr>\n",
              "      <th>27</th>\n",
              "      <td>283</td>\n",
              "      <td>16</td>\n",
              "      <td>172</td>\n",
              "      <td>4</td>\n",
              "      <td>294</td>\n",
              "      <td>60</td>\n",
              "    </tr>\n",
              "    <tr>\n",
              "      <th>28</th>\n",
              "      <td>283</td>\n",
              "      <td>16</td>\n",
              "      <td>176</td>\n",
              "      <td>3</td>\n",
              "      <td>293</td>\n",
              "      <td>64</td>\n",
              "    </tr>\n",
              "    <tr>\n",
              "      <th>29</th>\n",
              "      <td>290</td>\n",
              "      <td>16</td>\n",
              "      <td>176</td>\n",
              "      <td>3</td>\n",
              "      <td>297</td>\n",
              "      <td>66</td>\n",
              "    </tr>\n",
              "    <tr>\n",
              "      <th>30</th>\n",
              "      <td>272</td>\n",
              "      <td>16</td>\n",
              "      <td>167</td>\n",
              "      <td>6</td>\n",
              "      <td>280</td>\n",
              "      <td>60</td>\n",
              "    </tr>\n",
              "    <tr>\n",
              "      <th>31</th>\n",
              "      <td>290</td>\n",
              "      <td>16</td>\n",
              "      <td>168</td>\n",
              "      <td>2</td>\n",
              "      <td>300</td>\n",
              "      <td>64</td>\n",
              "    </tr>\n",
              "    <tr>\n",
              "      <th>32</th>\n",
              "      <td>283</td>\n",
              "      <td>16</td>\n",
              "      <td>173</td>\n",
              "      <td>1</td>\n",
              "      <td>293</td>\n",
              "      <td>70</td>\n",
              "    </tr>\n",
              "    <tr>\n",
              "      <th>33</th>\n",
              "      <td>284</td>\n",
              "      <td>16</td>\n",
              "      <td>178</td>\n",
              "      <td>2</td>\n",
              "      <td>287</td>\n",
              "      <td>66</td>\n",
              "    </tr>\n",
              "    <tr>\n",
              "      <th>34</th>\n",
              "      <td>286</td>\n",
              "      <td>16</td>\n",
              "      <td>173</td>\n",
              "      <td>2</td>\n",
              "      <td>296</td>\n",
              "      <td>63</td>\n",
              "    </tr>\n",
              "    <tr>\n",
              "      <th>35</th>\n",
              "      <td>253</td>\n",
              "      <td>9</td>\n",
              "      <td>162</td>\n",
              "      <td>2</td>\n",
              "      <td>263</td>\n",
              "      <td>62</td>\n",
              "    </tr>\n",
              "    <tr>\n",
              "      <th>36</th>\n",
              "      <td>280</td>\n",
              "      <td>9</td>\n",
              "      <td>180</td>\n",
              "      <td>2</td>\n",
              "      <td>290</td>\n",
              "      <td>72</td>\n",
              "    </tr>\n",
              "    <tr>\n",
              "      <th>37</th>\n",
              "      <td>280</td>\n",
              "      <td>9</td>\n",
              "      <td>184</td>\n",
              "      <td>3</td>\n",
              "      <td>290</td>\n",
              "      <td>60</td>\n",
              "    </tr>\n",
              "    <tr>\n",
              "      <th>38</th>\n",
              "      <td>280</td>\n",
              "      <td>9</td>\n",
              "      <td>182</td>\n",
              "      <td>1</td>\n",
              "      <td>287</td>\n",
              "      <td>73</td>\n",
              "    </tr>\n",
              "    <tr>\n",
              "      <th>39</th>\n",
              "      <td>300</td>\n",
              "      <td>9</td>\n",
              "      <td>190</td>\n",
              "      <td>4</td>\n",
              "      <td>308</td>\n",
              "      <td>75</td>\n",
              "    </tr>\n",
              "    <tr>\n",
              "      <th>40</th>\n",
              "      <td>285</td>\n",
              "      <td>9</td>\n",
              "      <td>186</td>\n",
              "      <td>3</td>\n",
              "      <td>290</td>\n",
              "      <td>72</td>\n",
              "    </tr>\n",
              "    <tr>\n",
              "      <th>41</th>\n",
              "      <td>281</td>\n",
              "      <td>9</td>\n",
              "      <td>185</td>\n",
              "      <td>2</td>\n",
              "      <td>296</td>\n",
              "      <td>67</td>\n",
              "    </tr>\n",
              "    <tr>\n",
              "      <th>42</th>\n",
              "      <td>288</td>\n",
              "      <td>9</td>\n",
              "      <td>184</td>\n",
              "      <td>2</td>\n",
              "      <td>305</td>\n",
              "      <td>71</td>\n",
              "    </tr>\n",
              "    <tr>\n",
              "      <th>43</th>\n",
              "      <td>280</td>\n",
              "      <td>9</td>\n",
              "      <td>180</td>\n",
              "      <td>2</td>\n",
              "      <td>299</td>\n",
              "      <td>67</td>\n",
              "    </tr>\n",
              "    <tr>\n",
              "      <th>44</th>\n",
              "      <td>282</td>\n",
              "      <td>9</td>\n",
              "      <td>177</td>\n",
              "      <td>2</td>\n",
              "      <td>290</td>\n",
              "      <td>70</td>\n",
              "    </tr>\n",
              "    <tr>\n",
              "      <th>45</th>\n",
              "      <td>279</td>\n",
              "      <td>9</td>\n",
              "      <td>183</td>\n",
              "      <td>3</td>\n",
              "      <td>287</td>\n",
              "      <td>62</td>\n",
              "    </tr>\n",
              "    <tr>\n",
              "      <th>46</th>\n",
              "      <td>255</td>\n",
              "      <td>9</td>\n",
              "      <td>170</td>\n",
              "      <td>6</td>\n",
              "      <td>271</td>\n",
              "      <td>56</td>\n",
              "    </tr>\n",
              "    <tr>\n",
              "      <th>47</th>\n",
              "      <td>270</td>\n",
              "      <td>9</td>\n",
              "      <td>175</td>\n",
              "      <td>1</td>\n",
              "      <td>280</td>\n",
              "      <td>65</td>\n",
              "    </tr>\n",
              "    <tr>\n",
              "      <th>48</th>\n",
              "      <td>285</td>\n",
              "      <td>24</td>\n",
              "      <td>190</td>\n",
              "      <td>3</td>\n",
              "      <td>290</td>\n",
              "      <td>85</td>\n",
              "    </tr>\n",
              "    <tr>\n",
              "      <th>49</th>\n",
              "      <td>275</td>\n",
              "      <td>24</td>\n",
              "      <td>175</td>\n",
              "      <td>1</td>\n",
              "      <td>285</td>\n",
              "      <td>57</td>\n",
              "    </tr>\n",
              "  </tbody>\n",
              "</table>\n",
              "</div>\n",
              "      <button class=\"colab-df-convert\" onclick=\"convertToInteractive('df-f603b9ca-f262-4d61-b9e9-804751f96f32')\"\n",
              "              title=\"Convert this dataframe to an interactive table.\"\n",
              "              style=\"display:none;\">\n",
              "        \n",
              "  <svg xmlns=\"http://www.w3.org/2000/svg\" height=\"24px\"viewBox=\"0 0 24 24\"\n",
              "       width=\"24px\">\n",
              "    <path d=\"M0 0h24v24H0V0z\" fill=\"none\"/>\n",
              "    <path d=\"M18.56 5.44l.94 2.06.94-2.06 2.06-.94-2.06-.94-.94-2.06-.94 2.06-2.06.94zm-11 1L8.5 8.5l.94-2.06 2.06-.94-2.06-.94L8.5 2.5l-.94 2.06-2.06.94zm10 10l.94 2.06.94-2.06 2.06-.94-2.06-.94-.94-2.06-.94 2.06-2.06.94z\"/><path d=\"M17.41 7.96l-1.37-1.37c-.4-.4-.92-.59-1.43-.59-.52 0-1.04.2-1.43.59L10.3 9.45l-7.72 7.72c-.78.78-.78 2.05 0 2.83L4 21.41c.39.39.9.59 1.41.59.51 0 1.02-.2 1.41-.59l7.78-7.78 2.81-2.81c.8-.78.8-2.07 0-2.86zM5.41 20L4 18.59l7.72-7.72 1.47 1.35L5.41 20z\"/>\n",
              "  </svg>\n",
              "      </button>\n",
              "      \n",
              "  <style>\n",
              "    .colab-df-container {\n",
              "      display:flex;\n",
              "      flex-wrap:wrap;\n",
              "      gap: 12px;\n",
              "    }\n",
              "\n",
              "    .colab-df-convert {\n",
              "      background-color: #E8F0FE;\n",
              "      border: none;\n",
              "      border-radius: 50%;\n",
              "      cursor: pointer;\n",
              "      display: none;\n",
              "      fill: #1967D2;\n",
              "      height: 32px;\n",
              "      padding: 0 0 0 0;\n",
              "      width: 32px;\n",
              "    }\n",
              "\n",
              "    .colab-df-convert:hover {\n",
              "      background-color: #E2EBFA;\n",
              "      box-shadow: 0px 1px 2px rgba(60, 64, 67, 0.3), 0px 1px 3px 1px rgba(60, 64, 67, 0.15);\n",
              "      fill: #174EA6;\n",
              "    }\n",
              "\n",
              "    [theme=dark] .colab-df-convert {\n",
              "      background-color: #3B4455;\n",
              "      fill: #D2E3FC;\n",
              "    }\n",
              "\n",
              "    [theme=dark] .colab-df-convert:hover {\n",
              "      background-color: #434B5C;\n",
              "      box-shadow: 0px 1px 3px 1px rgba(0, 0, 0, 0.15);\n",
              "      filter: drop-shadow(0px 1px 2px rgba(0, 0, 0, 0.3));\n",
              "      fill: #FFFFFF;\n",
              "    }\n",
              "  </style>\n",
              "\n",
              "      <script>\n",
              "        const buttonEl =\n",
              "          document.querySelector('#df-f603b9ca-f262-4d61-b9e9-804751f96f32 button.colab-df-convert');\n",
              "        buttonEl.style.display =\n",
              "          google.colab.kernel.accessAllowed ? 'block' : 'none';\n",
              "\n",
              "        async function convertToInteractive(key) {\n",
              "          const element = document.querySelector('#df-f603b9ca-f262-4d61-b9e9-804751f96f32');\n",
              "          const dataTable =\n",
              "            await google.colab.kernel.invokeFunction('convertToInteractive',\n",
              "                                                     [key], {});\n",
              "          if (!dataTable) return;\n",
              "\n",
              "          const docLinkHtml = 'Like what you see? Visit the ' +\n",
              "            '<a target=\"_blank\" href=https://colab.research.google.com/notebooks/data_table.ipynb>data table notebook</a>'\n",
              "            + ' to learn more about interactive tables.';\n",
              "          element.innerHTML = '';\n",
              "          dataTable['output_type'] = 'display_data';\n",
              "          await google.colab.output.renderOutput(dataTable, element);\n",
              "          const docLink = document.createElement('div');\n",
              "          docLink.innerHTML = docLinkHtml;\n",
              "          element.appendChild(docLink);\n",
              "        }\n",
              "      </script>\n",
              "    </div>\n",
              "  </div>\n",
              "  "
            ]
          },
          "metadata": {},
          "execution_count": 2
        }
      ]
    },
    {
      "cell_type": "code",
      "source": [
        "vball_df.drop(index=68,inplace=True)\n",
        "vball_df.drop(index=212,inplace=True)\n",
        "vball_df.drop(index=356,inplace=True)"
      ],
      "metadata": {
        "id": "MFMR4-kKz1Kp"
      },
      "execution_count": 3,
      "outputs": []
    },
    {
      "cell_type": "code",
      "source": [
        "vball_df.describe()\n"
      ],
      "metadata": {
        "id": "aJoXRdYdz2Ps",
        "colab": {
          "base_uri": "https://localhost:8080/",
          "height": 300
        },
        "outputId": "b7c6594f-761e-42ea-997d-f9b09a7d1e8e"
      },
      "execution_count": 4,
      "outputs": [
        {
          "output_type": "execute_result",
          "data": {
            "text/plain": [
              "            block     country      height  position_number      spike  \\\n",
              "count  429.000000  429.000000  429.000000       429.000000  429.00000   \n",
              "mean   277.433566   19.706294  181.000000         2.748252  288.79021   \n",
              "std     24.027017    8.498350    8.239692         1.413231   25.57722   \n",
              "min    178.000000    5.000000  153.000000         1.000000  178.00000   \n",
              "25%    274.000000   10.000000  175.000000         2.000000  285.00000   \n",
              "50%    283.000000   23.000000  182.000000         2.000000  294.00000   \n",
              "75%    292.000000   29.000000  187.000000         3.000000  304.00000   \n",
              "max    310.000000   31.000000  199.000000         6.000000  336.00000   \n",
              "\n",
              "           weight  \n",
              "count  429.000000  \n",
              "mean    68.727273  \n",
              "std      7.367695  \n",
              "min     52.000000  \n",
              "25%     63.000000  \n",
              "50%     69.000000  \n",
              "75%     73.000000  \n",
              "max     87.000000  "
            ],
            "text/html": [
              "\n",
              "  <div id=\"df-b7233af0-cd82-414d-9436-94d787f5b20c\">\n",
              "    <div class=\"colab-df-container\">\n",
              "      <div>\n",
              "<style scoped>\n",
              "    .dataframe tbody tr th:only-of-type {\n",
              "        vertical-align: middle;\n",
              "    }\n",
              "\n",
              "    .dataframe tbody tr th {\n",
              "        vertical-align: top;\n",
              "    }\n",
              "\n",
              "    .dataframe thead th {\n",
              "        text-align: right;\n",
              "    }\n",
              "</style>\n",
              "<table border=\"1\" class=\"dataframe\">\n",
              "  <thead>\n",
              "    <tr style=\"text-align: right;\">\n",
              "      <th></th>\n",
              "      <th>block</th>\n",
              "      <th>country</th>\n",
              "      <th>height</th>\n",
              "      <th>position_number</th>\n",
              "      <th>spike</th>\n",
              "      <th>weight</th>\n",
              "    </tr>\n",
              "  </thead>\n",
              "  <tbody>\n",
              "    <tr>\n",
              "      <th>count</th>\n",
              "      <td>429.000000</td>\n",
              "      <td>429.000000</td>\n",
              "      <td>429.000000</td>\n",
              "      <td>429.000000</td>\n",
              "      <td>429.00000</td>\n",
              "      <td>429.000000</td>\n",
              "    </tr>\n",
              "    <tr>\n",
              "      <th>mean</th>\n",
              "      <td>277.433566</td>\n",
              "      <td>19.706294</td>\n",
              "      <td>181.000000</td>\n",
              "      <td>2.748252</td>\n",
              "      <td>288.79021</td>\n",
              "      <td>68.727273</td>\n",
              "    </tr>\n",
              "    <tr>\n",
              "      <th>std</th>\n",
              "      <td>24.027017</td>\n",
              "      <td>8.498350</td>\n",
              "      <td>8.239692</td>\n",
              "      <td>1.413231</td>\n",
              "      <td>25.57722</td>\n",
              "      <td>7.367695</td>\n",
              "    </tr>\n",
              "    <tr>\n",
              "      <th>min</th>\n",
              "      <td>178.000000</td>\n",
              "      <td>5.000000</td>\n",
              "      <td>153.000000</td>\n",
              "      <td>1.000000</td>\n",
              "      <td>178.00000</td>\n",
              "      <td>52.000000</td>\n",
              "    </tr>\n",
              "    <tr>\n",
              "      <th>25%</th>\n",
              "      <td>274.000000</td>\n",
              "      <td>10.000000</td>\n",
              "      <td>175.000000</td>\n",
              "      <td>2.000000</td>\n",
              "      <td>285.00000</td>\n",
              "      <td>63.000000</td>\n",
              "    </tr>\n",
              "    <tr>\n",
              "      <th>50%</th>\n",
              "      <td>283.000000</td>\n",
              "      <td>23.000000</td>\n",
              "      <td>182.000000</td>\n",
              "      <td>2.000000</td>\n",
              "      <td>294.00000</td>\n",
              "      <td>69.000000</td>\n",
              "    </tr>\n",
              "    <tr>\n",
              "      <th>75%</th>\n",
              "      <td>292.000000</td>\n",
              "      <td>29.000000</td>\n",
              "      <td>187.000000</td>\n",
              "      <td>3.000000</td>\n",
              "      <td>304.00000</td>\n",
              "      <td>73.000000</td>\n",
              "    </tr>\n",
              "    <tr>\n",
              "      <th>max</th>\n",
              "      <td>310.000000</td>\n",
              "      <td>31.000000</td>\n",
              "      <td>199.000000</td>\n",
              "      <td>6.000000</td>\n",
              "      <td>336.00000</td>\n",
              "      <td>87.000000</td>\n",
              "    </tr>\n",
              "  </tbody>\n",
              "</table>\n",
              "</div>\n",
              "      <button class=\"colab-df-convert\" onclick=\"convertToInteractive('df-b7233af0-cd82-414d-9436-94d787f5b20c')\"\n",
              "              title=\"Convert this dataframe to an interactive table.\"\n",
              "              style=\"display:none;\">\n",
              "        \n",
              "  <svg xmlns=\"http://www.w3.org/2000/svg\" height=\"24px\"viewBox=\"0 0 24 24\"\n",
              "       width=\"24px\">\n",
              "    <path d=\"M0 0h24v24H0V0z\" fill=\"none\"/>\n",
              "    <path d=\"M18.56 5.44l.94 2.06.94-2.06 2.06-.94-2.06-.94-.94-2.06-.94 2.06-2.06.94zm-11 1L8.5 8.5l.94-2.06 2.06-.94-2.06-.94L8.5 2.5l-.94 2.06-2.06.94zm10 10l.94 2.06.94-2.06 2.06-.94-2.06-.94-.94-2.06-.94 2.06-2.06.94z\"/><path d=\"M17.41 7.96l-1.37-1.37c-.4-.4-.92-.59-1.43-.59-.52 0-1.04.2-1.43.59L10.3 9.45l-7.72 7.72c-.78.78-.78 2.05 0 2.83L4 21.41c.39.39.9.59 1.41.59.51 0 1.02-.2 1.41-.59l7.78-7.78 2.81-2.81c.8-.78.8-2.07 0-2.86zM5.41 20L4 18.59l7.72-7.72 1.47 1.35L5.41 20z\"/>\n",
              "  </svg>\n",
              "      </button>\n",
              "      \n",
              "  <style>\n",
              "    .colab-df-container {\n",
              "      display:flex;\n",
              "      flex-wrap:wrap;\n",
              "      gap: 12px;\n",
              "    }\n",
              "\n",
              "    .colab-df-convert {\n",
              "      background-color: #E8F0FE;\n",
              "      border: none;\n",
              "      border-radius: 50%;\n",
              "      cursor: pointer;\n",
              "      display: none;\n",
              "      fill: #1967D2;\n",
              "      height: 32px;\n",
              "      padding: 0 0 0 0;\n",
              "      width: 32px;\n",
              "    }\n",
              "\n",
              "    .colab-df-convert:hover {\n",
              "      background-color: #E2EBFA;\n",
              "      box-shadow: 0px 1px 2px rgba(60, 64, 67, 0.3), 0px 1px 3px 1px rgba(60, 64, 67, 0.15);\n",
              "      fill: #174EA6;\n",
              "    }\n",
              "\n",
              "    [theme=dark] .colab-df-convert {\n",
              "      background-color: #3B4455;\n",
              "      fill: #D2E3FC;\n",
              "    }\n",
              "\n",
              "    [theme=dark] .colab-df-convert:hover {\n",
              "      background-color: #434B5C;\n",
              "      box-shadow: 0px 1px 3px 1px rgba(0, 0, 0, 0.15);\n",
              "      filter: drop-shadow(0px 1px 2px rgba(0, 0, 0, 0.3));\n",
              "      fill: #FFFFFF;\n",
              "    }\n",
              "  </style>\n",
              "\n",
              "      <script>\n",
              "        const buttonEl =\n",
              "          document.querySelector('#df-b7233af0-cd82-414d-9436-94d787f5b20c button.colab-df-convert');\n",
              "        buttonEl.style.display =\n",
              "          google.colab.kernel.accessAllowed ? 'block' : 'none';\n",
              "\n",
              "        async function convertToInteractive(key) {\n",
              "          const element = document.querySelector('#df-b7233af0-cd82-414d-9436-94d787f5b20c');\n",
              "          const dataTable =\n",
              "            await google.colab.kernel.invokeFunction('convertToInteractive',\n",
              "                                                     [key], {});\n",
              "          if (!dataTable) return;\n",
              "\n",
              "          const docLinkHtml = 'Like what you see? Visit the ' +\n",
              "            '<a target=\"_blank\" href=https://colab.research.google.com/notebooks/data_table.ipynb>data table notebook</a>'\n",
              "            + ' to learn more about interactive tables.';\n",
              "          element.innerHTML = '';\n",
              "          dataTable['output_type'] = 'display_data';\n",
              "          await google.colab.output.renderOutput(dataTable, element);\n",
              "          const docLink = document.createElement('div');\n",
              "          docLink.innerHTML = docLinkHtml;\n",
              "          element.appendChild(docLink);\n",
              "        }\n",
              "      </script>\n",
              "    </div>\n",
              "  </div>\n",
              "  "
            ]
          },
          "metadata": {},
          "execution_count": 4
        }
      ]
    },
    {
      "cell_type": "code",
      "source": [
        "#make position number and country categorical variables\n",
        "vball_df\n",
        "vball_df['position_number']\n",
        "pd.Categorical(vball_df['position_number'])\n",
        "pd.Categorical(vball_df['country'])\n",
        "print(vball_df['position_number'])\n",
        "print(vball_df['country'])"
      ],
      "metadata": {
        "id": "-ApatpRtz5GI",
        "colab": {
          "base_uri": "https://localhost:8080/"
        },
        "outputId": "e5fc9923-1517-436e-ef1b-44d219b565a1"
      },
      "execution_count": 5,
      "outputs": [
        {
          "output_type": "stream",
          "name": "stdout",
          "text": [
            "0      3\n",
            "1      1\n",
            "2      2\n",
            "3      6\n",
            "4      1\n",
            "      ..\n",
            "427    2\n",
            "428    3\n",
            "429    1\n",
            "430    1\n",
            "431    3\n",
            "Name: position_number, Length: 429, dtype: int64\n",
            "0      23\n",
            "1      23\n",
            "2      23\n",
            "3      23\n",
            "4      23\n",
            "       ..\n",
            "427    26\n",
            "428    26\n",
            "429    26\n",
            "430    26\n",
            "431    26\n",
            "Name: country, Length: 429, dtype: int64\n"
          ]
        }
      ]
    },
    {
      "cell_type": "code",
      "source": [
        "setter = vball_df[vball_df[\"position_number\"] ==1]\n",
        "outside = vball_df[vball_df[\"position_number\"] ==2]\n",
        "middle = vball_df[vball_df[\"position_number\"] ==3]\n",
        "opposite = vball_df[vball_df[\"position_number\"] ==4]\n",
        "libero = vball_df[vball_df[\"position_number\"] ==6]"
      ],
      "metadata": {
        "id": "NMo_3WytJVis"
      },
      "execution_count": 6,
      "outputs": []
    },
    {
      "cell_type": "code",
      "source": [
        "# Import regression modules\n",
        "# ols - stands for Ordinary least squares, we'll use this\n",
        "import statsmodels.api as sm\n",
        "from statsmodels.formula.api import ols\n",
        "# statsmodels works nicely with pandas dataframes\n",
        "# The thing inside the \"quotes\" is called a formula, a bit on that below\n",
        "a = ols('block ~ height',setter).fit()\n",
        "print(a.summary())"
      ],
      "metadata": {
        "id": "wsuclk6ez8_8",
        "colab": {
          "base_uri": "https://localhost:8080/"
        },
        "outputId": "00b30ab4-6830-45c8-d260-7fb411113872"
      },
      "execution_count": 7,
      "outputs": [
        {
          "output_type": "stream",
          "name": "stdout",
          "text": [
            "                            OLS Regression Results                            \n",
            "==============================================================================\n",
            "Dep. Variable:                  block   R-squared:                       0.377\n",
            "Model:                            OLS   Adj. R-squared:                  0.368\n",
            "Method:                 Least Squares   F-statistic:                     44.09\n",
            "Date:                Fri, 10 Jun 2022   Prob (F-statistic):           4.82e-09\n",
            "Time:                        01:20:39   Log-Likelihood:                -315.64\n",
            "No. Observations:                  75   AIC:                             635.3\n",
            "Df Residuals:                      73   BIC:                             639.9\n",
            "Df Model:                           1                                         \n",
            "Covariance Type:            nonrobust                                         \n",
            "==============================================================================\n",
            "                 coef    std err          t      P>|t|      [0.025      0.975]\n",
            "------------------------------------------------------------------------------\n",
            "Intercept    -53.8755     49.484     -1.089      0.280    -152.497      44.746\n",
            "height         1.8561      0.280      6.640      0.000       1.299       2.413\n",
            "==============================================================================\n",
            "Omnibus:                       43.115   Durbin-Watson:                   2.231\n",
            "Prob(Omnibus):                  0.000   Jarque-Bera (JB):              104.246\n",
            "Skew:                          -2.024   Prob(JB):                     2.31e-23\n",
            "Kurtosis:                       7.120   Cond. No.                     4.60e+03\n",
            "==============================================================================\n",
            "\n",
            "Warnings:\n",
            "[1] Standard Errors assume that the covariance matrix of the errors is correctly specified.\n",
            "[2] The condition number is large, 4.6e+03. This might indicate that there are\n",
            "strong multicollinearity or other numerical problems.\n"
          ]
        }
      ]
    },
    {
      "cell_type": "code",
      "source": [
        "plt.scatter(setter['block'], a.fittedvalues)\n",
        "plt.xlabel(\"Block Height: $Y_i$\")\n",
        "plt.ylabel(\"Predicted Block Hieght: $\\hat{Y}_i$\")\n",
        "plt.title(\"Block Height vs Predicted Block Height: $Y_i$ vs $\\hat{Y}_i$\")"
      ],
      "metadata": {
        "id": "ZykBjqhPIJbw",
        "colab": {
          "base_uri": "https://localhost:8080/",
          "height": 329
        },
        "outputId": "a6ba8c32-78e4-4dbf-e65e-9b58d328d29f"
      },
      "execution_count": 32,
      "outputs": [
        {
          "output_type": "execute_result",
          "data": {
            "text/plain": [
              "Text(0.5, 1.0, 'Block Height vs Predicted Block Height: $Y_i$ vs $\\\\hat{Y}_i$')"
            ]
          },
          "metadata": {},
          "execution_count": 32
        },
        {
          "output_type": "display_data",
          "data": {
            "text/plain": [
              "<Figure size 432x288 with 1 Axes>"
            ],
            "image/png": "[encoded data removed]"
          },
          "metadata": {
            "needs_background": "light"
          }
        }
      ]
    },
    {
      "cell_type": "code",
      "source": [
        "from sklearn.linear_model import LinearRegression\n",
        "A = setter.drop('block', axis = 1)\n",
        "\n",
        "# This creates a LinearRegression object\n",
        "lm = LinearRegression()\n",
        "lm"
      ],
      "metadata": {
        "colab": {
          "base_uri": "https://localhost:8080/"
        },
        "id": "OiESUAmhItrr",
        "outputId": "4d7b6a23-c636-41e1-e9e5-100f857d93a6"
      },
      "execution_count": 33,
      "outputs": [
        {
          "output_type": "execute_result",
          "data": {
            "text/plain": [
              "LinearRegression()"
            ]
          },
          "metadata": {},
          "execution_count": 33
        }
      ]
    },
    {
      "cell_type": "code",
      "source": [
        "lm.fit(A, setter.block)"
      ],
      "metadata": {
        "colab": {
          "base_uri": "https://localhost:8080/"
        },
        "id": "fIbtExK5IuVb",
        "outputId": "c28c395e-ea74-4a43-e242-0a297feb52b7"
      },
      "execution_count": 34,
      "outputs": [
        {
          "output_type": "execute_result",
          "data": {
            "text/plain": [
              "LinearRegression()"
            ]
          },
          "metadata": {},
          "execution_count": 34
        }
      ]
    },
    {
      "cell_type": "code",
      "source": [
        "print('Estimated intercept coefficient:', lm.intercept_)"
      ],
      "metadata": {
        "colab": {
          "base_uri": "https://localhost:8080/"
        },
        "id": "3cv1u1q23FI5",
        "outputId": "deb3f114-0c04-4719-ad79-124cc1c96c08"
      },
      "execution_count": 35,
      "outputs": [
        {
          "output_type": "stream",
          "name": "stdout",
          "text": [
            "Estimated intercept coefficient: -47.575852251322544\n"
          ]
        }
      ]
    },
    {
      "cell_type": "code",
      "source": [
        "print('Number of coefficients:', len(lm.coef_))"
      ],
      "metadata": {
        "colab": {
          "base_uri": "https://localhost:8080/"
        },
        "id": "0ovHrvur3GlR",
        "outputId": "5c7c8418-2a82-4c2b-9c9c-9a904c7a31e6"
      },
      "execution_count": 38,
      "outputs": [
        {
          "output_type": "stream",
          "name": "stdout",
          "text": [
            "Number of coefficients: 5\n"
          ]
        }
      ]
    },
    {
      "cell_type": "code",
      "source": [
        "zip(A.columns, lm.coef_)"
      ],
      "metadata": {
        "colab": {
          "base_uri": "https://localhost:8080/"
        },
        "id": "6OlgQ02H3JNH",
        "outputId": "9659227b-7f1d-45e1-ceaf-ba3a3f07b9cb"
      },
      "execution_count": 37,
      "outputs": [
        {
          "output_type": "execute_result",
          "data": {
            "text/plain": [
              "<zip at 0x7f9cab972870>"
            ]
          },
          "metadata": {},
          "execution_count": 37
        }
      ]
    },
    {
      "cell_type": "code",
      "source": [
        "# The coefficients\n",
        "pd.DataFrame(zip(A.columns, lm.coef_), columns = ['features', 'estimatedCoefficients'])"
      ],
      "metadata": {
        "id": "jxfodMVO3M2w",
        "colab": {
          "base_uri": "https://localhost:8080/",
          "height": 206
        },
        "outputId": "9ec4d25a-7807-4800-84ea-a839440e6a25"
      },
      "execution_count": 39,
      "outputs": [
        {
          "output_type": "execute_result",
          "data": {
            "text/plain": [
              "          features  estimatedCoefficients\n",
              "0          country               0.073062\n",
              "1           height               1.259159\n",
              "2  position_number               0.000000\n",
              "3            spike               0.555164\n",
              "4           weight              -0.897015"
            ],
            "text/html": [
              "\n",
              "  <div id=\"df-c4030eaa-f0e4-4b50-bdb3-73a696cef5d1\">\n",
              "    <div class=\"colab-df-container\">\n",
              "      <div>\n",
              "<style scoped>\n",
              "    .dataframe tbody tr th:only-of-type {\n",
              "        vertical-align: middle;\n",
              "    }\n",
              "\n",
              "    .dataframe tbody tr th {\n",
              "        vertical-align: top;\n",
              "    }\n",
              "\n",
              "    .dataframe thead th {\n",
              "        text-align: right;\n",
              "    }\n",
              "</style>\n",
              "<table border=\"1\" class=\"dataframe\">\n",
              "  <thead>\n",
              "    <tr style=\"text-align: right;\">\n",
              "      <th></th>\n",
              "      <th>features</th>\n",
              "      <th>estimatedCoefficients</th>\n",
              "    </tr>\n",
              "  </thead>\n",
              "  <tbody>\n",
              "    <tr>\n",
              "      <th>0</th>\n",
              "      <td>country</td>\n",
              "      <td>0.073062</td>\n",
              "    </tr>\n",
              "    <tr>\n",
              "      <th>1</th>\n",
              "      <td>height</td>\n",
              "      <td>1.259159</td>\n",
              "    </tr>\n",
              "    <tr>\n",
              "      <th>2</th>\n",
              "      <td>position_number</td>\n",
              "      <td>0.000000</td>\n",
              "    </tr>\n",
              "    <tr>\n",
              "      <th>3</th>\n",
              "      <td>spike</td>\n",
              "      <td>0.555164</td>\n",
              "    </tr>\n",
              "    <tr>\n",
              "      <th>4</th>\n",
              "      <td>weight</td>\n",
              "      <td>-0.897015</td>\n",
              "    </tr>\n",
              "  </tbody>\n",
              "</table>\n",
              "</div>\n",
              "      <button class=\"colab-df-convert\" onclick=\"convertToInteractive('df-c4030eaa-f0e4-4b50-bdb3-73a696cef5d1')\"\n",
              "              title=\"Convert this dataframe to an interactive table.\"\n",
              "              style=\"display:none;\">\n",
              "        \n",
              "  <svg xmlns=\"http://www.w3.org/2000/svg\" height=\"24px\"viewBox=\"0 0 24 24\"\n",
              "       width=\"24px\">\n",
              "    <path d=\"M0 0h24v24H0V0z\" fill=\"none\"/>\n",
              "    <path d=\"M18.56 5.44l.94 2.06.94-2.06 2.06-.94-2.06-.94-.94-2.06-.94 2.06-2.06.94zm-11 1L8.5 8.5l.94-2.06 2.06-.94-2.06-.94L8.5 2.5l-.94 2.06-2.06.94zm10 10l.94 2.06.94-2.06 2.06-.94-2.06-.94-.94-2.06-.94 2.06-2.06.94z\"/><path d=\"M17.41 7.96l-1.37-1.37c-.4-.4-.92-.59-1.43-.59-.52 0-1.04.2-1.43.59L10.3 9.45l-7.72 7.72c-.78.78-.78 2.05 0 2.83L4 21.41c.39.39.9.59 1.41.59.51 0 1.02-.2 1.41-.59l7.78-7.78 2.81-2.81c.8-.78.8-2.07 0-2.86zM5.41 20L4 18.59l7.72-7.72 1.47 1.35L5.41 20z\"/>\n",
              "  </svg>\n",
              "      </button>\n",
              "      \n",
              "  <style>\n",
              "    .colab-df-container {\n",
              "      display:flex;\n",
              "      flex-wrap:wrap;\n",
              "      gap: 12px;\n",
              "    }\n",
              "\n",
              "    .colab-df-convert {\n",
              "      background-color: #E8F0FE;\n",
              "      border: none;\n",
              "      border-radius: 50%;\n",
              "      cursor: pointer;\n",
              "      display: none;\n",
              "      fill: #1967D2;\n",
              "      height: 32px;\n",
              "      padding: 0 0 0 0;\n",
              "      width: 32px;\n",
              "    }\n",
              "\n",
              "    .colab-df-convert:hover {\n",
              "      background-color: #E2EBFA;\n",
              "      box-shadow: 0px 1px 2px rgba(60, 64, 67, 0.3), 0px 1px 3px 1px rgba(60, 64, 67, 0.15);\n",
              "      fill: #174EA6;\n",
              "    }\n",
              "\n",
              "    [theme=dark] .colab-df-convert {\n",
              "      background-color: #3B4455;\n",
              "      fill: #D2E3FC;\n",
              "    }\n",
              "\n",
              "    [theme=dark] .colab-df-convert:hover {\n",
              "      background-color: #434B5C;\n",
              "      box-shadow: 0px 1px 3px 1px rgba(0, 0, 0, 0.15);\n",
              "      filter: drop-shadow(0px 1px 2px rgba(0, 0, 0, 0.3));\n",
              "      fill: #FFFFFF;\n",
              "    }\n",
              "  </style>\n",
              "\n",
              "      <script>\n",
              "        const buttonEl =\n",
              "          document.querySelector('#df-c4030eaa-f0e4-4b50-bdb3-73a696cef5d1 button.colab-df-convert');\n",
              "        buttonEl.style.display =\n",
              "          google.colab.kernel.accessAllowed ? 'block' : 'none';\n",
              "\n",
              "        async function convertToInteractive(key) {\n",
              "          const element = document.querySelector('#df-c4030eaa-f0e4-4b50-bdb3-73a696cef5d1');\n",
              "          const dataTable =\n",
              "            await google.colab.kernel.invokeFunction('convertToInteractive',\n",
              "                                                     [key], {});\n",
              "          if (!dataTable) return;\n",
              "\n",
              "          const docLinkHtml = 'Like what you see? Visit the ' +\n",
              "            '<a target=\"_blank\" href=https://colab.research.google.com/notebooks/data_table.ipynb>data table notebook</a>'\n",
              "            + ' to learn more about interactive tables.';\n",
              "          element.innerHTML = '';\n",
              "          dataTable['output_type'] = 'display_data';\n",
              "          await google.colab.output.renderOutput(dataTable, element);\n",
              "          const docLink = document.createElement('div');\n",
              "          docLink.innerHTML = docLinkHtml;\n",
              "          element.appendChild(docLink);\n",
              "        }\n",
              "      </script>\n",
              "    </div>\n",
              "  </div>\n",
              "  "
            ]
          },
          "metadata": {},
          "execution_count": 39
        }
      ]
    },
    {
      "cell_type": "code",
      "source": [
        "# first five predicted prices\n",
        "lm.predict(A)[0:5]"
      ],
      "metadata": {
        "colab": {
          "base_uri": "https://localhost:8080/"
        },
        "id": "XSPgYhj2I2Mc",
        "outputId": "43977b42-e9bd-4d50-bdf5-5407a85c33e3"
      },
      "execution_count": 40,
      "outputs": [
        {
          "output_type": "execute_result",
          "data": {
            "text/plain": [
              "array([283.35681381, 280.21885039, 260.50617538, 289.62371773,\n",
              "       273.81795545])"
            ]
          },
          "metadata": {},
          "execution_count": 40
        }
      ]
    },
    {
      "cell_type": "code",
      "source": [
        "plt.scatter(setter.block, lm.predict(A))\n",
        "plt.xlabel(\"Setter Block Height: $Y_i$\")\n",
        "plt.ylabel(\"Predicted Setter Block Height: $\\hat{Y}_i$\")\n",
        "plt.title(\"Setter Block Height vs Predicted Setter Block Height: $Y_i$ vs $\\hat{Y}_i$\")"
      ],
      "metadata": {
        "colab": {
          "base_uri": "https://localhost:8080/",
          "height": 329
        },
        "id": "RIDU3kI9I7zY",
        "outputId": "aa642561-d165-4ba7-e876-67c3211b96cc"
      },
      "execution_count": 41,
      "outputs": [
        {
          "output_type": "execute_result",
          "data": {
            "text/plain": [
              "Text(0.5, 1.0, 'Setter Block Height vs Predicted Setter Block Height: $Y_i$ vs $\\\\hat{Y}_i$')"
            ]
          },
          "metadata": {},
          "execution_count": 41
        },
        {
          "output_type": "display_data",
          "data": {
            "text/plain": [
              "<Figure size 432x288 with 1 Axes>"
            ],
            "image/png": "[encoded data removed]"
          },
          "metadata": {
            "needs_background": "light"
          }
        }
      ]
    },
    {
      "cell_type": "code",
      "source": [
        "## residual sum of squares\n",
        "print(np.sum((setter.block - lm.predict(A)) ** 2))"
      ],
      "metadata": {
        "colab": {
          "base_uri": "https://localhost:8080/"
        },
        "id": "p83_g_60I92n",
        "outputId": "a38515ab-4b90-4e2f-c8d3-238a08b6ef55"
      },
      "execution_count": 42,
      "outputs": [
        {
          "output_type": "stream",
          "name": "stdout",
          "text": [
            "11214.23843211813\n"
          ]
        }
      ]
    },
    {
      "cell_type": "code",
      "source": [
        "##mean squared error\n",
        "mseFull = np.mean((setter.block- lm.predict(A)) ** 2)\n",
        "print(mseFull)"
      ],
      "metadata": {
        "colab": {
          "base_uri": "https://localhost:8080/"
        },
        "id": "i15XcHQ4JEzH",
        "outputId": "2e8d05f0-3709-4654-fdcd-6354cbaf01f4"
      },
      "execution_count": 43,
      "outputs": [
        {
          "output_type": "stream",
          "name": "stdout",
          "text": [
            "149.5231790949084\n"
          ]
        }
      ]
    },
    {
      "cell_type": "markdown",
      "source": [
        "FOR OUTSIDE HITTER"
      ],
      "metadata": {
        "id": "bd_yKMWc_B5B"
      }
    },
    {
      "cell_type": "code",
      "source": [
        "b = ols('block ~ height',outside).fit()\n",
        "print(b.summary())"
      ],
      "metadata": {
        "id": "cvMOyhtg8mGU",
        "colab": {
          "base_uri": "https://localhost:8080/"
        },
        "outputId": "0462bf34-325b-4fe2-c696-da1656031c4d"
      },
      "execution_count": 44,
      "outputs": [
        {
          "output_type": "stream",
          "name": "stdout",
          "text": [
            "                            OLS Regression Results                            \n",
            "==============================================================================\n",
            "Dep. Variable:                  block   R-squared:                       0.374\n",
            "Model:                            OLS   Adj. R-squared:                  0.370\n",
            "Method:                 Least Squares   F-statistic:                     84.93\n",
            "Date:                Fri, 10 Jun 2022   Prob (F-statistic):           3.78e-16\n",
            "Time:                        01:30:49   Log-Likelihood:                -661.45\n",
            "No. Observations:                 144   AIC:                             1327.\n",
            "Df Residuals:                     142   BIC:                             1333.\n",
            "Df Model:                           1                                         \n",
            "Covariance Type:            nonrobust                                         \n",
            "==============================================================================\n",
            "                 coef    std err          t      P>|t|      [0.025      0.975]\n",
            "------------------------------------------------------------------------------\n",
            "Intercept   -152.2883     46.306     -3.289      0.001    -243.826     -60.751\n",
            "height         2.3697      0.257      9.216      0.000       1.861       2.878\n",
            "==============================================================================\n",
            "Omnibus:                       44.198   Durbin-Watson:                   2.000\n",
            "Prob(Omnibus):                  0.000   Jarque-Bera (JB):               80.686\n",
            "Skew:                          -1.435   Prob(JB):                     3.01e-18\n",
            "Kurtosis:                       5.284   Cond. No.                     4.16e+03\n",
            "==============================================================================\n",
            "\n",
            "Warnings:\n",
            "[1] Standard Errors assume that the covariance matrix of the errors is correctly specified.\n",
            "[2] The condition number is large, 4.16e+03. This might indicate that there are\n",
            "strong multicollinearity or other numerical problems.\n"
          ]
        }
      ]
    },
    {
      "cell_type": "code",
      "source": [
        "plt.scatter(outside['block'], b.fittedvalues)\n",
        "plt.xlabel(\"Outside Block Height: $Y_i$\")\n",
        "plt.ylabel(\"Predicted Outside Block Height: $\\hat{Y}_i$\")\n",
        "plt.title(\"Outside Height vs Predicted Outside Block Height: $Y_i$ vs $\\hat{Y}_i$\")"
      ],
      "metadata": {
        "colab": {
          "base_uri": "https://localhost:8080/",
          "height": 329
        },
        "id": "bMZJUbh98sLs",
        "outputId": "f8cda1cf-bca7-44c9-82df-29a40e08a60f"
      },
      "execution_count": 45,
      "outputs": [
        {
          "output_type": "execute_result",
          "data": {
            "text/plain": [
              "Text(0.5, 1.0, 'Outside Height vs Predicted Outside Block Height: $Y_i$ vs $\\\\hat{Y}_i$')"
            ]
          },
          "metadata": {},
          "execution_count": 45
        },
        {
          "output_type": "display_data",
          "data": {
            "text/plain": [
              "<Figure size 432x288 with 1 Axes>"
            ],
            "image/png": "[encoded data removed]"
          },
          "metadata": {
            "needs_background": "light"
          }
        }
      ]
    },
    {
      "cell_type": "code",
      "source": [
        "B = outside.drop('block', axis = 1)\n",
        "lm.fit(B, outside.block)\n",
        "print('Estimated intercept coefficient:', lm.intercept_)\n",
        "print('Number of coefficients:', len(lm.coef_))\n",
        "zip(B.columns, lm.coef_)\n",
        "pd.DataFrame(zip(B.columns, lm.coef_), columns = ['features', 'estimatedCoefficients'])\n",
        "lm.predict(B)[0:5]\n",
        "plt.scatter(outside['block'], lm.predict(B))\n",
        "plt.xlabel(\"Outside Block Height: $Y_i$\")\n",
        "plt.ylabel(\"Predicted Outside Block Height: $\\hat{Y}_i$\")\n",
        "plt.title(\"Outside Height vs Predicted Outside Block Height: $Y_i$ vs $\\hat{Y}_i$\")"
      ],
      "metadata": {
        "colab": {
          "base_uri": "https://localhost:8080/",
          "height": 365
        },
        "id": "WMXeiLUn9it6",
        "outputId": "4888f837-2d29-4ac3-a850-e4239dcb5de6"
      },
      "execution_count": 46,
      "outputs": [
        {
          "output_type": "stream",
          "name": "stdout",
          "text": [
            "Estimated intercept coefficient: 30.05269459294084\n",
            "Number of coefficients: 5\n"
          ]
        },
        {
          "output_type": "execute_result",
          "data": {
            "text/plain": [
              "Text(0.5, 1.0, 'Outside Height vs Predicted Outside Block Height: $Y_i$ vs $\\\\hat{Y}_i$')"
            ]
          },
          "metadata": {},
          "execution_count": 46
        },
        {
          "output_type": "display_data",
          "data": {
            "text/plain": [
              "<Figure size 432x288 with 1 Axes>"
            ],
            "image/png": "[encoded data removed]"
          },
          "metadata": {
            "needs_background": "light"
          }
        }
      ]
    },
    {
      "cell_type": "code",
      "source": [
        "## residual sum of squares\n",
        "print(np.sum((outside.block - lm.predict(B)) ** 2))\n",
        "##mean squared error\n",
        "mseFull = np.mean((outside.block - lm.predict(B)) ** 2)\n",
        "print(mseFull)"
      ],
      "metadata": {
        "colab": {
          "base_uri": "https://localhost:8080/"
        },
        "id": "SrvsEXn2_Y8G",
        "outputId": "f21a32a3-4a4f-441f-bf9f-0ef7df207924"
      },
      "execution_count": 47,
      "outputs": [
        {
          "output_type": "stream",
          "name": "stdout",
          "text": [
            "16357.576418252713\n",
            "113.59428068231048\n"
          ]
        }
      ]
    },
    {
      "cell_type": "markdown",
      "source": [
        "FOR OPPOSITE HITTER"
      ],
      "metadata": {
        "id": "ZpY1qVGv_ebE"
      }
    },
    {
      "cell_type": "code",
      "source": [
        "c = ols('block ~ height',opposite).fit()\n",
        "print(c.summary())"
      ],
      "metadata": {
        "colab": {
          "base_uri": "https://localhost:8080/"
        },
        "id": "gCEweK4F_jVE",
        "outputId": "791735ea-9ac6-403d-9d55-2380ffd28293"
      },
      "execution_count": 48,
      "outputs": [
        {
          "output_type": "stream",
          "name": "stdout",
          "text": [
            "                            OLS Regression Results                            \n",
            "==============================================================================\n",
            "Dep. Variable:                  block   R-squared:                       0.189\n",
            "Model:                            OLS   Adj. R-squared:                  0.175\n",
            "Method:                 Least Squares   F-statistic:                     13.48\n",
            "Date:                Fri, 10 Jun 2022   Prob (F-statistic):           0.000526\n",
            "Time:                        01:30:57   Log-Likelihood:                -250.87\n",
            "No. Observations:                  60   AIC:                             505.7\n",
            "Df Residuals:                      58   BIC:                             509.9\n",
            "Df Model:                           1                                         \n",
            "Covariance Type:            nonrobust                                         \n",
            "==============================================================================\n",
            "                 coef    std err          t      P>|t|      [0.025      0.975]\n",
            "------------------------------------------------------------------------------\n",
            "Intercept     64.7257     59.959      1.079      0.285     -55.296     184.747\n",
            "height         1.1893      0.324      3.672      0.001       0.541       1.838\n",
            "==============================================================================\n",
            "Omnibus:                       26.331   Durbin-Watson:                   2.041\n",
            "Prob(Omnibus):                  0.000   Jarque-Bera (JB):               40.627\n",
            "Skew:                          -1.636   Prob(JB):                     1.51e-09\n",
            "Kurtosis:                       5.354   Cond. No.                     5.34e+03\n",
            "==============================================================================\n",
            "\n",
            "Warnings:\n",
            "[1] Standard Errors assume that the covariance matrix of the errors is correctly specified.\n",
            "[2] The condition number is large, 5.34e+03. This might indicate that there are\n",
            "strong multicollinearity or other numerical problems.\n"
          ]
        }
      ]
    },
    {
      "cell_type": "code",
      "source": [
        "plt.scatter(opposite['block'], c.fittedvalues)\n",
        "plt.xlabel(\"Opposite Block Height: $Y_i$\")\n",
        "plt.ylabel(\"Predicted Opposite Block Height: $\\hat{Y}_i$\")\n",
        "plt.title(\"Opposite Height vs Predicted Opposite Block Height: $Y_i$ vs $\\hat{Y}_i$\")"
      ],
      "metadata": {
        "colab": {
          "base_uri": "https://localhost:8080/",
          "height": 329
        },
        "id": "6_pHSSRN_oPQ",
        "outputId": "b5128af4-9d6f-49b8-8727-07e7303a170b"
      },
      "execution_count": 49,
      "outputs": [
        {
          "output_type": "execute_result",
          "data": {
            "text/plain": [
              "Text(0.5, 1.0, 'Opposite Height vs Predicted Opposite Block Height: $Y_i$ vs $\\\\hat{Y}_i$')"
            ]
          },
          "metadata": {},
          "execution_count": 49
        },
        {
          "output_type": "display_data",
          "data": {
            "text/plain": [
              "<Figure size 432x288 with 1 Axes>"
            ],
            "image/png": "[encoded data removed]"
          },
          "metadata": {
            "needs_background": "light"
          }
        }
      ]
    },
    {
      "cell_type": "code",
      "source": [
        "C = opposite.drop('block', axis = 1)\n",
        "lm.fit(C, opposite.block)\n",
        "print('Estimated intercept coefficient:', lm.intercept_)\n",
        "print('Number of coefficients:', len(lm.coef_))\n",
        "zip(C.columns, lm.coef_)\n",
        "pd.DataFrame(zip(C.columns, lm.coef_), columns = ['features', 'estimatedCoefficients'])\n",
        "lm.predict(C)[0:5]\n",
        "plt.scatter(opposite['block'], lm.predict(C))\n",
        "plt.xlabel(\"Opposite Block Height: $Y_i$\")\n",
        "plt.ylabel(\"Predicted Opposite Block Height: $\\hat{Y}_i$\")\n",
        "plt.title(\"Opposite Height vs Predicted Opposite Block Height: $Y_i$ vs $\\hat{Y}_i$\")"
      ],
      "metadata": {
        "colab": {
          "base_uri": "https://localhost:8080/",
          "height": 365
        },
        "id": "QtIcB85p_4qT",
        "outputId": "6b9da827-cc00-46c9-9011-94199280520c"
      },
      "execution_count": 50,
      "outputs": [
        {
          "output_type": "stream",
          "name": "stdout",
          "text": [
            "Estimated intercept coefficient: 171.5071245347094\n",
            "Number of coefficients: 5\n"
          ]
        },
        {
          "output_type": "execute_result",
          "data": {
            "text/plain": [
              "Text(0.5, 1.0, 'Opposite Height vs Predicted Opposite Block Height: $Y_i$ vs $\\\\hat{Y}_i$')"
            ]
          },
          "metadata": {},
          "execution_count": 50
        },
        {
          "output_type": "display_data",
          "data": {
            "text/plain": [
              "<Figure size 432x288 with 1 Axes>"
            ],
            "image/png": "[encoded data removed]"
          },
          "metadata": {
            "needs_background": "light"
          }
        }
      ]
    },
    {
      "cell_type": "code",
      "source": [
        "## residual sum of squares\n",
        "print(np.sum((opposite.block - lm.predict(C)) ** 2))\n",
        "##mean squared error\n",
        "mseFull = np.mean((opposite.block - lm.predict(C)) ** 2)\n",
        "print(mseFull)"
      ],
      "metadata": {
        "colab": {
          "base_uri": "https://localhost:8080/"
        },
        "id": "3KKTGUbhBQW2",
        "outputId": "e6aa4c25-6e98-4fea-bfbf-9c47b8681205"
      },
      "execution_count": 51,
      "outputs": [
        {
          "output_type": "stream",
          "name": "stdout",
          "text": [
            "10719.281367791125\n",
            "178.65468946318543\n"
          ]
        }
      ]
    },
    {
      "cell_type": "code",
      "source": [
        "FOR MIDDLE BLOCKER"
      ],
      "metadata": {
        "id": "HpykYxc0BXSH",
        "colab": {
          "base_uri": "https://localhost:8080/",
          "height": 133
        },
        "outputId": "5a2b9500-e718-4e22-f958-7440f2ec7c30"
      },
      "execution_count": 27,
      "outputs": [
        {
          "output_type": "error",
          "ename": "SyntaxError",
          "evalue": "ignored",
          "traceback": [
            "\u001b[0;36m  File \u001b[0;32m\"<ipython-input-27-258f5a2452da>\"\u001b[0;36m, line \u001b[0;32m1\u001b[0m\n\u001b[0;31m    FOR MIDDLE BLOCKER\u001b[0m\n\u001b[0m             ^\u001b[0m\n\u001b[0;31mSyntaxError\u001b[0m\u001b[0;31m:\u001b[0m invalid syntax\n"
          ]
        }
      ]
    },
    {
      "cell_type": "code",
      "source": [
        "d = ols('block ~ height',middle).fit()\n",
        "print(d.summary())"
      ],
      "metadata": {
        "colab": {
          "base_uri": "https://localhost:8080/"
        },
        "id": "To7ZLx-ABQNc",
        "outputId": "5e671d71-7477-4a49-d35d-531b3f2259d4"
      },
      "execution_count": 52,
      "outputs": [
        {
          "output_type": "stream",
          "name": "stdout",
          "text": [
            "                            OLS Regression Results                            \n",
            "==============================================================================\n",
            "Dep. Variable:                  block   R-squared:                       0.020\n",
            "Model:                            OLS   Adj. R-squared:                  0.011\n",
            "Method:                 Least Squares   F-statistic:                     2.166\n",
            "Date:                Fri, 10 Jun 2022   Prob (F-statistic):              0.144\n",
            "Time:                        01:31:04   Log-Likelihood:                -437.28\n",
            "No. Observations:                 108   AIC:                             878.6\n",
            "Df Residuals:                     106   BIC:                             883.9\n",
            "Df Model:                           1                                         \n",
            "Covariance Type:            nonrobust                                         \n",
            "==============================================================================\n",
            "                 coef    std err          t      P>|t|      [0.025      0.975]\n",
            "------------------------------------------------------------------------------\n",
            "Intercept    356.5342     48.394      7.367      0.000     260.589     452.480\n",
            "height        -0.3810      0.259     -1.472      0.144      -0.894       0.132\n",
            "==============================================================================\n",
            "Omnibus:                       11.707   Durbin-Watson:                   1.763\n",
            "Prob(Omnibus):                  0.003   Jarque-Bera (JB):               12.147\n",
            "Skew:                          -0.784   Prob(JB):                      0.00230\n",
            "Kurtosis:                       3.487   Cond. No.                     6.71e+03\n",
            "==============================================================================\n",
            "\n",
            "Warnings:\n",
            "[1] Standard Errors assume that the covariance matrix of the errors is correctly specified.\n",
            "[2] The condition number is large, 6.71e+03. This might indicate that there are\n",
            "strong multicollinearity or other numerical problems.\n"
          ]
        }
      ]
    },
    {
      "cell_type": "code",
      "source": [
        "plt.scatter(middle['block'], d.fittedvalues)\n",
        "plt.xlabel(\"Middle Block Height: $Y_i$\")\n",
        "plt.ylabel(\"Predicted Middle Block Height: $\\hat{Y}_i$\")\n",
        "plt.title(\"Middle Height vs Predicted Middle Block Height: $Y_i$ vs $\\hat{Y}_i$\")"
      ],
      "metadata": {
        "colab": {
          "base_uri": "https://localhost:8080/",
          "height": 329
        },
        "id": "98umgU2XBoxh",
        "outputId": "ce8432a1-16d6-4e81-8b7e-e094cd38e91a"
      },
      "execution_count": 53,
      "outputs": [
        {
          "output_type": "execute_result",
          "data": {
            "text/plain": [
              "Text(0.5, 1.0, 'Middle Height vs Predicted Middle Block Height: $Y_i$ vs $\\\\hat{Y}_i$')"
            ]
          },
          "metadata": {},
          "execution_count": 53
        },
        {
          "output_type": "display_data",
          "data": {
            "text/plain": [
              "<Figure size 432x288 with 1 Axes>"
            ],
            "image/png": "[encoded data removed]"
          },
          "metadata": {
            "needs_background": "light"
          }
        }
      ]
    },
    {
      "cell_type": "code",
      "source": [
        "D = middle.drop('block', axis = 1)\n",
        "lm.fit(D, middle.block)\n",
        "print('Estimated intercept coefficient:', lm.intercept_)\n",
        "print('Number of coefficients:', len(lm.coef_))\n",
        "zip(D.columns, lm.coef_)\n",
        "pd.DataFrame(zip(D.columns, lm.coef_), columns = ['features', 'estimatedCoefficients'])\n",
        "lm.predict(D)[0:5]\n",
        "plt.scatter(middle['block'], lm.predict(D))\n",
        "plt.xlabel(\"Middle Block Height: $Y_i$\")\n",
        "plt.ylabel(\"Predicted Middle Block Height: $\\hat{Y}_i$\")\n",
        "plt.title(\"Middle Height vs Predicted Middle Block Height: $Y_i$ vs $\\hat{Y}_i$\")"
      ],
      "metadata": {
        "colab": {
          "base_uri": "https://localhost:8080/",
          "height": 365
        },
        "id": "2MwqfugFBxfI",
        "outputId": "1fc868b0-2ccf-483a-8601-22a4305e3430"
      },
      "execution_count": 54,
      "outputs": [
        {
          "output_type": "stream",
          "name": "stdout",
          "text": [
            "Estimated intercept coefficient: 196.00553752069789\n",
            "Number of coefficients: 5\n"
          ]
        },
        {
          "output_type": "execute_result",
          "data": {
            "text/plain": [
              "Text(0.5, 1.0, 'Middle Height vs Predicted Middle Block Height: $Y_i$ vs $\\\\hat{Y}_i$')"
            ]
          },
          "metadata": {},
          "execution_count": 54
        },
        {
          "output_type": "display_data",
          "data": {
            "text/plain": [
              "<Figure size 432x288 with 1 Axes>"
            ],
            "image/png": "[encoded data removed]"
          },
          "metadata": {
            "needs_background": "light"
          }
        }
      ]
    },
    {
      "cell_type": "code",
      "source": [
        "## residual sum of squares\n",
        "print(np.sum((middle.block - lm.predict(D)) ** 2))\n",
        "##mean squared error\n",
        "mseFull = np.mean((middle.block - lm.predict(D)) ** 2)\n",
        "print(mseFull)"
      ],
      "metadata": {
        "colab": {
          "base_uri": "https://localhost:8080/"
        },
        "id": "IIAX7kfpCmcZ",
        "outputId": "c9982575-5435-478a-e21f-b08e86261999"
      },
      "execution_count": 55,
      "outputs": [
        {
          "output_type": "stream",
          "name": "stdout",
          "text": [
            "14211.16175492063\n",
            "131.5848310640799\n"
          ]
        }
      ]
    },
    {
      "cell_type": "markdown",
      "source": [
        "FOR LIBEROS"
      ],
      "metadata": {
        "id": "KGf3G3i4Cslj"
      }
    },
    {
      "cell_type": "code",
      "source": [
        "e = ols('block ~ height',libero).fit()\n",
        "print(e.summary())"
      ],
      "metadata": {
        "colab": {
          "base_uri": "https://localhost:8080/"
        },
        "outputId": "714b6abc-852e-4028-ea99-7a02910e6814",
        "id": "xVnJJ6T0O0PO"
      },
      "execution_count": 56,
      "outputs": [
        {
          "output_type": "stream",
          "name": "stdout",
          "text": [
            "                            OLS Regression Results                            \n",
            "==============================================================================\n",
            "Dep. Variable:                  block   R-squared:                       0.220\n",
            "Model:                            OLS   Adj. R-squared:                  0.200\n",
            "Method:                 Least Squares   F-statistic:                     11.27\n",
            "Date:                Fri, 10 Jun 2022   Prob (F-statistic):            0.00174\n",
            "Time:                        01:31:15   Log-Likelihood:                -187.29\n",
            "No. Observations:                  42   AIC:                             378.6\n",
            "Df Residuals:                      40   BIC:                             382.1\n",
            "Df Model:                           1                                         \n",
            "Covariance Type:            nonrobust                                         \n",
            "==============================================================================\n",
            "                 coef    std err          t      P>|t|      [0.025      0.975]\n",
            "------------------------------------------------------------------------------\n",
            "Intercept    -86.5682    104.368     -0.829      0.412    -297.505     124.368\n",
            "height         2.0450      0.609      3.357      0.002       0.814       3.276\n",
            "==============================================================================\n",
            "Omnibus:                       37.857   Durbin-Watson:                   1.750\n",
            "Prob(Omnibus):                  0.000   Jarque-Bera (JB):               96.832\n",
            "Skew:                          -2.433   Prob(JB):                     9.40e-22\n",
            "Kurtosis:                       8.626   Cond. No.                     5.41e+03\n",
            "==============================================================================\n",
            "\n",
            "Warnings:\n",
            "[1] Standard Errors assume that the covariance matrix of the errors is correctly specified.\n",
            "[2] The condition number is large, 5.41e+03. This might indicate that there are\n",
            "strong multicollinearity or other numerical problems.\n"
          ]
        }
      ]
    },
    {
      "cell_type": "code",
      "source": [
        "plt.scatter(libero['block'], e.fittedvalues)\n",
        "plt.xlabel(\"Libero Block Height: $Y_i$\")\n",
        "plt.ylabel(\"Predicted Libero Block Height: $\\hat{Y}_i$\")\n",
        "plt.title(\"Libero Height vs Predicted Libero Block Height: $Y_i$ vs $\\hat{Y}_i$\")"
      ],
      "metadata": {
        "colab": {
          "base_uri": "https://localhost:8080/",
          "height": 329
        },
        "id": "GgAv3T1lNkf4",
        "outputId": "c20da6f0-cbf9-4d32-a05e-dcc9cbef6c2a"
      },
      "execution_count": 57,
      "outputs": [
        {
          "output_type": "execute_result",
          "data": {
            "text/plain": [
              "Text(0.5, 1.0, 'Libero Height vs Predicted Libero Block Height: $Y_i$ vs $\\\\hat{Y}_i$')"
            ]
          },
          "metadata": {},
          "execution_count": 57
        },
        {
          "output_type": "display_data",
          "data": {
            "text/plain": [
              "<Figure size 432x288 with 1 Axes>"
            ],
            "image/png": "[encoded data removed]"
          },
          "metadata": {
            "needs_background": "light"
          }
        }
      ]
    },
    {
      "cell_type": "code",
      "source": [
        "E = libero.drop('block', axis = 1)\n",
        "lm.fit(E, libero.block)\n",
        "print('Estimated intercept coefficient:', lm.intercept_)\n",
        "print('Number of coefficients:', len(lm.coef_))\n",
        "zip(E.columns, lm.coef_)\n",
        "pd.DataFrame(zip(E.columns, lm.coef_), columns = ['features', 'estimatedCoefficients'])\n",
        "lm.predict(E)[0:5]\n",
        "plt.scatter(libero['block'], lm.predict(E))\n",
        "plt.xlabel(\"Libero Block Height: $Y_i$\")\n",
        "plt.ylabel(\"Predicted Libero Block Height: $\\hat{Y}_i$\")\n",
        "plt.title(\"Libero Height vs Predicted Libero Block Height: $Y_i$ vs $\\hat{Y}_i$\")"
      ],
      "metadata": {
        "colab": {
          "base_uri": "https://localhost:8080/",
          "height": 365
        },
        "id": "xJOPIhqSNqRd",
        "outputId": "fafac1d4-cff9-4eb4-e522-8932045f13a6"
      },
      "execution_count": 58,
      "outputs": [
        {
          "output_type": "stream",
          "name": "stdout",
          "text": [
            "Estimated intercept coefficient: 55.44917317669669\n",
            "Number of coefficients: 5\n"
          ]
        },
        {
          "output_type": "execute_result",
          "data": {
            "text/plain": [
              "Text(0.5, 1.0, 'Libero Height vs Predicted Libero Block Height: $Y_i$ vs $\\\\hat{Y}_i$')"
            ]
          },
          "metadata": {},
          "execution_count": 58
        },
        {
          "output_type": "display_data",
          "data": {
            "text/plain": [
              "<Figure size 432x288 with 1 Axes>"
            ],
            "image/png": "[encoded data removed]"
          },
          "metadata": {
            "needs_background": "light"
          }
        }
      ]
    },
    {
      "cell_type": "code",
      "source": [
        "## residual sum of squares\n",
        "print(np.sum((libero.block - lm.predict(E)) ** 2))\n",
        "##mean squared error\n",
        "mseFull = np.mean((libero.block - lm.predict(E)) ** 2)\n",
        "print(mseFull)"
      ],
      "metadata": {
        "colab": {
          "base_uri": "https://localhost:8080/"
        },
        "id": "CYCtu6s_NsMW",
        "outputId": "4ee72946-f4a6-48fb-e9d9-01694784ca5c"
      },
      "execution_count": 59,
      "outputs": [
        {
          "output_type": "stream",
          "name": "stdout",
          "text": [
            "1654.1906482701138\n",
            "39.385491625478906\n"
          ]
        }
      ]
    }
  ]
}