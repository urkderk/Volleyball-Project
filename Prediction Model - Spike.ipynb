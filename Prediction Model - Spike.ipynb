{
  "nbformat": 4,
  "nbformat_minor": 0,
  "metadata": {
    "colab": {
      "name": "Linear Regg.ipynb",
      "provenance": [],
      "authorship_tag": "ABX9TyPf7C6YtYNc9QU1FYBpuGgt",
      "include_colab_link": true
    },
    "kernelspec": {
      "name": "python3",
      "display_name": "Python 3"
    },
    "language_info": {
      "name": "python"
    }
  },
  "cells": [
    {
      "cell_type": "markdown",
      "metadata": {
        "id": "view-in-github",
        "colab_type": "text"
      },
      "source": [
        "<a href=\"https://colab.research.google.com/github/urkderk/Volleyball-Project/blob/main/Prediction%20Model%20-%20Spike.ipynb\" target=\"_parent\"><img src=\"https://colab.research.google.com/assets/colab-badge.svg\" alt=\"Open In Colab\"/></a>"
      ]
    },
    {
      "cell_type": "code",
      "execution_count": 3,
      "metadata": {
        "id": "A-M4AwCtOfyT"
      },
      "outputs": [],
      "source": [
        "# special IPython command to prepare the notebook for matplotlib\n",
        "%matplotlib inline \n",
        "\n",
        "import numpy as np\n",
        "import pandas as pd\n",
        "import scipy.stats as stats\n",
        "import matplotlib.pyplot as plt\n",
        "import sklearn\n",
        "import statsmodels.api as sm\n",
        "\n",
        "import seaborn as sns\n",
        "sns.set_theme(style=\"whitegrid\")\n",
        "\n",
        "# special matplotlib argument for improved plots\n",
        "from matplotlib import rcParams\n",
        "import sys\n",
        "import os\n"
      ]
    },
    {
      "cell_type": "code",
      "source": [
        "vball_df = pd.read_csv('clean_data.csv', encoding='unicode_escape')\n",
        "vball_df = vball_df[vball_df.columns.difference(['index'])]\n",
        "vball_df = vball_df[vball_df.columns.difference(['date_of_birth'])]\n",
        "vball_df = vball_df[vball_df.columns.difference(['name'])]\n",
        "vball_df.head(50)"
      ],
      "metadata": {
        "id": "Zfme-xw4zmxe",
        "colab": {
          "base_uri": "https://localhost:8080/",
          "height": 1000
        },
        "outputId": "a0e7ced9-36b8-4b7d-9a9d-039fe49f52c5"
      },
      "execution_count": 5,
      "outputs": [
        {
          "output_type": "execute_result",
          "data": {
            "text/plain": [
              "    block  country  height  position_number  spike  weight\n",
              "0     305       23     193                3    320      80\n",
              "1     284       23     182                1    295      71\n",
              "2     296       23     190                2    306      72\n",
              "3     278       23     176                6    288      62\n",
              "4     275       23     181                1    290      70\n",
              "5     297       23     186                3    306      67\n",
              "6     295       23     188                2    305      72\n",
              "7     297       23     187                3    305      78\n",
              "8     298       23     187                2    305      80\n",
              "9     300       23     190                4    315      67\n",
              "10    275       23     195                2    305      69\n",
              "11    296       23     187                4    300      79\n",
              "12    286       10     182                2    304      73\n",
              "13    281       10     175                2    292      72\n",
              "14    284       10     191                4    291      79\n",
              "15    285       10     181                3    301      71\n",
              "16    285       10     181                2    296      75\n",
              "17    281       10     182                3    296      75\n",
              "18    284       10     187                3    295      69\n",
              "19    289       10     187                4    306      72\n",
              "20    272       10     172                1    275      69\n",
              "21    274       10     171                6    275      70\n",
              "22    285       10     184                1    297      67\n",
              "23    276       10     186                3    287      80\n",
              "24    295       16     177                2    301      61\n",
              "25    278       16     175                1    293      70\n",
              "26    282       16     177                3    292      60\n",
              "27    283       16     172                4    294      60\n",
              "28    283       16     176                3    293      64\n",
              "29    290       16     176                3    297      66\n",
              "30    272       16     167                6    280      60\n",
              "31    290       16     168                2    300      64\n",
              "32    283       16     173                1    293      70\n",
              "33    284       16     178                2    287      66\n",
              "34    286       16     173                2    296      63\n",
              "35    253        9     162                2    263      62\n",
              "36    280        9     180                2    290      72\n",
              "37    280        9     184                3    290      60\n",
              "38    280        9     182                1    287      73\n",
              "39    300        9     190                4    308      75\n",
              "40    285        9     186                3    290      72\n",
              "41    281        9     185                2    296      67\n",
              "42    288        9     184                2    305      71\n",
              "43    280        9     180                2    299      67\n",
              "44    282        9     177                2    290      70\n",
              "45    279        9     183                3    287      62\n",
              "46    255        9     170                6    271      56\n",
              "47    270        9     175                1    280      65\n",
              "48    285       24     190                3    290      85\n",
              "49    275       24     175                1    285      57"
            ],
            "text/html": [
              "\n",
              "  <div id=\"df-3e42b057-f4f0-48b6-b3f3-73b6cdb81146\">\n",
              "    <div class=\"colab-df-container\">\n",
              "      <div>\n",
              "<style scoped>\n",
              "    .dataframe tbody tr th:only-of-type {\n",
              "        vertical-align: middle;\n",
              "    }\n",
              "\n",
              "    .dataframe tbody tr th {\n",
              "        vertical-align: top;\n",
              "    }\n",
              "\n",
              "    .dataframe thead th {\n",
              "        text-align: right;\n",
              "    }\n",
              "</style>\n",
              "<table border=\"1\" class=\"dataframe\">\n",
              "  <thead>\n",
              "    <tr style=\"text-align: right;\">\n",
              "      <th></th>\n",
              "      <th>block</th>\n",
              "      <th>country</th>\n",
              "      <th>height</th>\n",
              "      <th>position_number</th>\n",
              "      <th>spike</th>\n",
              "      <th>weight</th>\n",
              "    </tr>\n",
              "  </thead>\n",
              "  <tbody>\n",
              "    <tr>\n",
              "      <th>0</th>\n",
              "      <td>305</td>\n",
              "      <td>23</td>\n",
              "      <td>193</td>\n",
              "      <td>3</td>\n",
              "      <td>320</td>\n",
              "      <td>80</td>\n",
              "    </tr>\n",
              "    <tr>\n",
              "      <th>1</th>\n",
              "      <td>284</td>\n",
              "      <td>23</td>\n",
              "      <td>182</td>\n",
              "      <td>1</td>\n",
              "      <td>295</td>\n",
              "      <td>71</td>\n",
              "    </tr>\n",
              "    <tr>\n",
              "      <th>2</th>\n",
              "      <td>296</td>\n",
              "      <td>23</td>\n",
              "      <td>190</td>\n",
              "      <td>2</td>\n",
              "      <td>306</td>\n",
              "      <td>72</td>\n",
              "    </tr>\n",
              "    <tr>\n",
              "      <th>3</th>\n",
              "      <td>278</td>\n",
              "      <td>23</td>\n",
              "      <td>176</td>\n",
              "      <td>6</td>\n",
              "      <td>288</td>\n",
              "      <td>62</td>\n",
              "    </tr>\n",
              "    <tr>\n",
              "      <th>4</th>\n",
              "      <td>275</td>\n",
              "      <td>23</td>\n",
              "      <td>181</td>\n",
              "      <td>1</td>\n",
              "      <td>290</td>\n",
              "      <td>70</td>\n",
              "    </tr>\n",
              "    <tr>\n",
              "      <th>5</th>\n",
              "      <td>297</td>\n",
              "      <td>23</td>\n",
              "      <td>186</td>\n",
              "      <td>3</td>\n",
              "      <td>306</td>\n",
              "      <td>67</td>\n",
              "    </tr>\n",
              "    <tr>\n",
              "      <th>6</th>\n",
              "      <td>295</td>\n",
              "      <td>23</td>\n",
              "      <td>188</td>\n",
              "      <td>2</td>\n",
              "      <td>305</td>\n",
              "      <td>72</td>\n",
              "    </tr>\n",
              "    <tr>\n",
              "      <th>7</th>\n",
              "      <td>297</td>\n",
              "      <td>23</td>\n",
              "      <td>187</td>\n",
              "      <td>3</td>\n",
              "      <td>305</td>\n",
              "      <td>78</td>\n",
              "    </tr>\n",
              "    <tr>\n",
              "      <th>8</th>\n",
              "      <td>298</td>\n",
              "      <td>23</td>\n",
              "      <td>187</td>\n",
              "      <td>2</td>\n",
              "      <td>305</td>\n",
              "      <td>80</td>\n",
              "    </tr>\n",
              "    <tr>\n",
              "      <th>9</th>\n",
              "      <td>300</td>\n",
              "      <td>23</td>\n",
              "      <td>190</td>\n",
              "      <td>4</td>\n",
              "      <td>315</td>\n",
              "      <td>67</td>\n",
              "    </tr>\n",
              "    <tr>\n",
              "      <th>10</th>\n",
              "      <td>275</td>\n",
              "      <td>23</td>\n",
              "      <td>195</td>\n",
              "      <td>2</td>\n",
              "      <td>305</td>\n",
              "      <td>69</td>\n",
              "    </tr>\n",
              "    <tr>\n",
              "      <th>11</th>\n",
              "      <td>296</td>\n",
              "      <td>23</td>\n",
              "      <td>187</td>\n",
              "      <td>4</td>\n",
              "      <td>300</td>\n",
              "      <td>79</td>\n",
              "    </tr>\n",
              "    <tr>\n",
              "      <th>12</th>\n",
              "      <td>286</td>\n",
              "      <td>10</td>\n",
              "      <td>182</td>\n",
              "      <td>2</td>\n",
              "      <td>304</td>\n",
              "      <td>73</td>\n",
              "    </tr>\n",
              "    <tr>\n",
              "      <th>13</th>\n",
              "      <td>281</td>\n",
              "      <td>10</td>\n",
              "      <td>175</td>\n",
              "      <td>2</td>\n",
              "      <td>292</td>\n",
              "      <td>72</td>\n",
              "    </tr>\n",
              "    <tr>\n",
              "      <th>14</th>\n",
              "      <td>284</td>\n",
              "      <td>10</td>\n",
              "      <td>191</td>\n",
              "      <td>4</td>\n",
              "      <td>291</td>\n",
              "      <td>79</td>\n",
              "    </tr>\n",
              "    <tr>\n",
              "      <th>15</th>\n",
              "      <td>285</td>\n",
              "      <td>10</td>\n",
              "      <td>181</td>\n",
              "      <td>3</td>\n",
              "      <td>301</td>\n",
              "      <td>71</td>\n",
              "    </tr>\n",
              "    <tr>\n",
              "      <th>16</th>\n",
              "      <td>285</td>\n",
              "      <td>10</td>\n",
              "      <td>181</td>\n",
              "      <td>2</td>\n",
              "      <td>296</td>\n",
              "      <td>75</td>\n",
              "    </tr>\n",
              "    <tr>\n",
              "      <th>17</th>\n",
              "      <td>281</td>\n",
              "      <td>10</td>\n",
              "      <td>182</td>\n",
              "      <td>3</td>\n",
              "      <td>296</td>\n",
              "      <td>75</td>\n",
              "    </tr>\n",
              "    <tr>\n",
              "      <th>18</th>\n",
              "      <td>284</td>\n",
              "      <td>10</td>\n",
              "      <td>187</td>\n",
              "      <td>3</td>\n",
              "      <td>295</td>\n",
              "      <td>69</td>\n",
              "    </tr>\n",
              "    <tr>\n",
              "      <th>19</th>\n",
              "      <td>289</td>\n",
              "      <td>10</td>\n",
              "      <td>187</td>\n",
              "      <td>4</td>\n",
              "      <td>306</td>\n",
              "      <td>72</td>\n",
              "    </tr>\n",
              "    <tr>\n",
              "      <th>20</th>\n",
              "      <td>272</td>\n",
              "      <td>10</td>\n",
              "      <td>172</td>\n",
              "      <td>1</td>\n",
              "      <td>275</td>\n",
              "      <td>69</td>\n",
              "    </tr>\n",
              "    <tr>\n",
              "      <th>21</th>\n",
              "      <td>274</td>\n",
              "      <td>10</td>\n",
              "      <td>171</td>\n",
              "      <td>6</td>\n",
              "      <td>275</td>\n",
              "      <td>70</td>\n",
              "    </tr>\n",
              "    <tr>\n",
              "      <th>22</th>\n",
              "      <td>285</td>\n",
              "      <td>10</td>\n",
              "      <td>184</td>\n",
              "      <td>1</td>\n",
              "      <td>297</td>\n",
              "      <td>67</td>\n",
              "    </tr>\n",
              "    <tr>\n",
              "      <th>23</th>\n",
              "      <td>276</td>\n",
              "      <td>10</td>\n",
              "      <td>186</td>\n",
              "      <td>3</td>\n",
              "      <td>287</td>\n",
              "      <td>80</td>\n",
              "    </tr>\n",
              "    <tr>\n",
              "      <th>24</th>\n",
              "      <td>295</td>\n",
              "      <td>16</td>\n",
              "      <td>177</td>\n",
              "      <td>2</td>\n",
              "      <td>301</td>\n",
              "      <td>61</td>\n",
              "    </tr>\n",
              "    <tr>\n",
              "      <th>25</th>\n",
              "      <td>278</td>\n",
              "      <td>16</td>\n",
              "      <td>175</td>\n",
              "      <td>1</td>\n",
              "      <td>293</td>\n",
              "      <td>70</td>\n",
              "    </tr>\n",
              "    <tr>\n",
              "      <th>26</th>\n",
              "      <td>282</td>\n",
              "      <td>16</td>\n",
              "      <td>177</td>\n",
              "      <td>3</td>\n",
              "      <td>292</td>\n",
              "      <td>60</td>\n",
              "    </tr>\n",
              "    <tr>\n",
              "      <th>27</th>\n",
              "      <td>283</td>\n",
              "      <td>16</td>\n",
              "      <td>172</td>\n",
              "      <td>4</td>\n",
              "      <td>294</td>\n",
              "      <td>60</td>\n",
              "    </tr>\n",
              "    <tr>\n",
              "      <th>28</th>\n",
              "      <td>283</td>\n",
              "      <td>16</td>\n",
              "      <td>176</td>\n",
              "      <td>3</td>\n",
              "      <td>293</td>\n",
              "      <td>64</td>\n",
              "    </tr>\n",
              "    <tr>\n",
              "      <th>29</th>\n",
              "      <td>290</td>\n",
              "      <td>16</td>\n",
              "      <td>176</td>\n",
              "      <td>3</td>\n",
              "      <td>297</td>\n",
              "      <td>66</td>\n",
              "    </tr>\n",
              "    <tr>\n",
              "      <th>30</th>\n",
              "      <td>272</td>\n",
              "      <td>16</td>\n",
              "      <td>167</td>\n",
              "      <td>6</td>\n",
              "      <td>280</td>\n",
              "      <td>60</td>\n",
              "    </tr>\n",
              "    <tr>\n",
              "      <th>31</th>\n",
              "      <td>290</td>\n",
              "      <td>16</td>\n",
              "      <td>168</td>\n",
              "      <td>2</td>\n",
              "      <td>300</td>\n",
              "      <td>64</td>\n",
              "    </tr>\n",
              "    <tr>\n",
              "      <th>32</th>\n",
              "      <td>283</td>\n",
              "      <td>16</td>\n",
              "      <td>173</td>\n",
              "      <td>1</td>\n",
              "      <td>293</td>\n",
              "      <td>70</td>\n",
              "    </tr>\n",
              "    <tr>\n",
              "      <th>33</th>\n",
              "      <td>284</td>\n",
              "      <td>16</td>\n",
              "      <td>178</td>\n",
              "      <td>2</td>\n",
              "      <td>287</td>\n",
              "      <td>66</td>\n",
              "    </tr>\n",
              "    <tr>\n",
              "      <th>34</th>\n",
              "      <td>286</td>\n",
              "      <td>16</td>\n",
              "      <td>173</td>\n",
              "      <td>2</td>\n",
              "      <td>296</td>\n",
              "      <td>63</td>\n",
              "    </tr>\n",
              "    <tr>\n",
              "      <th>35</th>\n",
              "      <td>253</td>\n",
              "      <td>9</td>\n",
              "      <td>162</td>\n",
              "      <td>2</td>\n",
              "      <td>263</td>\n",
              "      <td>62</td>\n",
              "    </tr>\n",
              "    <tr>\n",
              "      <th>36</th>\n",
              "      <td>280</td>\n",
              "      <td>9</td>\n",
              "      <td>180</td>\n",
              "      <td>2</td>\n",
              "      <td>290</td>\n",
              "      <td>72</td>\n",
              "    </tr>\n",
              "    <tr>\n",
              "      <th>37</th>\n",
              "      <td>280</td>\n",
              "      <td>9</td>\n",
              "      <td>184</td>\n",
              "      <td>3</td>\n",
              "      <td>290</td>\n",
              "      <td>60</td>\n",
              "    </tr>\n",
              "    <tr>\n",
              "      <th>38</th>\n",
              "      <td>280</td>\n",
              "      <td>9</td>\n",
              "      <td>182</td>\n",
              "      <td>1</td>\n",
              "      <td>287</td>\n",
              "      <td>73</td>\n",
              "    </tr>\n",
              "    <tr>\n",
              "      <th>39</th>\n",
              "      <td>300</td>\n",
              "      <td>9</td>\n",
              "      <td>190</td>\n",
              "      <td>4</td>\n",
              "      <td>308</td>\n",
              "      <td>75</td>\n",
              "    </tr>\n",
              "    <tr>\n",
              "      <th>40</th>\n",
              "      <td>285</td>\n",
              "      <td>9</td>\n",
              "      <td>186</td>\n",
              "      <td>3</td>\n",
              "      <td>290</td>\n",
              "      <td>72</td>\n",
              "    </tr>\n",
              "    <tr>\n",
              "      <th>41</th>\n",
              "      <td>281</td>\n",
              "      <td>9</td>\n",
              "      <td>185</td>\n",
              "      <td>2</td>\n",
              "      <td>296</td>\n",
              "      <td>67</td>\n",
              "    </tr>\n",
              "    <tr>\n",
              "      <th>42</th>\n",
              "      <td>288</td>\n",
              "      <td>9</td>\n",
              "      <td>184</td>\n",
              "      <td>2</td>\n",
              "      <td>305</td>\n",
              "      <td>71</td>\n",
              "    </tr>\n",
              "    <tr>\n",
              "      <th>43</th>\n",
              "      <td>280</td>\n",
              "      <td>9</td>\n",
              "      <td>180</td>\n",
              "      <td>2</td>\n",
              "      <td>299</td>\n",
              "      <td>67</td>\n",
              "    </tr>\n",
              "    <tr>\n",
              "      <th>44</th>\n",
              "      <td>282</td>\n",
              "      <td>9</td>\n",
              "      <td>177</td>\n",
              "      <td>2</td>\n",
              "      <td>290</td>\n",
              "      <td>70</td>\n",
              "    </tr>\n",
              "    <tr>\n",
              "      <th>45</th>\n",
              "      <td>279</td>\n",
              "      <td>9</td>\n",
              "      <td>183</td>\n",
              "      <td>3</td>\n",
              "      <td>287</td>\n",
              "      <td>62</td>\n",
              "    </tr>\n",
              "    <tr>\n",
              "      <th>46</th>\n",
              "      <td>255</td>\n",
              "      <td>9</td>\n",
              "      <td>170</td>\n",
              "      <td>6</td>\n",
              "      <td>271</td>\n",
              "      <td>56</td>\n",
              "    </tr>\n",
              "    <tr>\n",
              "      <th>47</th>\n",
              "      <td>270</td>\n",
              "      <td>9</td>\n",
              "      <td>175</td>\n",
              "      <td>1</td>\n",
              "      <td>280</td>\n",
              "      <td>65</td>\n",
              "    </tr>\n",
              "    <tr>\n",
              "      <th>48</th>\n",
              "      <td>285</td>\n",
              "      <td>24</td>\n",
              "      <td>190</td>\n",
              "      <td>3</td>\n",
              "      <td>290</td>\n",
              "      <td>85</td>\n",
              "    </tr>\n",
              "    <tr>\n",
              "      <th>49</th>\n",
              "      <td>275</td>\n",
              "      <td>24</td>\n",
              "      <td>175</td>\n",
              "      <td>1</td>\n",
              "      <td>285</td>\n",
              "      <td>57</td>\n",
              "    </tr>\n",
              "  </tbody>\n",
              "</table>\n",
              "</div>\n",
              "      <button class=\"colab-df-convert\" onclick=\"convertToInteractive('df-3e42b057-f4f0-48b6-b3f3-73b6cdb81146')\"\n",
              "              title=\"Convert this dataframe to an interactive table.\"\n",
              "              style=\"display:none;\">\n",
              "        \n",
              "  <svg xmlns=\"http://www.w3.org/2000/svg\" height=\"24px\"viewBox=\"0 0 24 24\"\n",
              "       width=\"24px\">\n",
              "    <path d=\"M0 0h24v24H0V0z\" fill=\"none\"/>\n",
              "    <path d=\"M18.56 5.44l.94 2.06.94-2.06 2.06-.94-2.06-.94-.94-2.06-.94 2.06-2.06.94zm-11 1L8.5 8.5l.94-2.06 2.06-.94-2.06-.94L8.5 2.5l-.94 2.06-2.06.94zm10 10l.94 2.06.94-2.06 2.06-.94-2.06-.94-.94-2.06-.94 2.06-2.06.94z\"/><path d=\"M17.41 7.96l-1.37-1.37c-.4-.4-.92-.59-1.43-.59-.52 0-1.04.2-1.43.59L10.3 9.45l-7.72 7.72c-.78.78-.78 2.05 0 2.83L4 21.41c.39.39.9.59 1.41.59.51 0 1.02-.2 1.41-.59l7.78-7.78 2.81-2.81c.8-.78.8-2.07 0-2.86zM5.41 20L4 18.59l7.72-7.72 1.47 1.35L5.41 20z\"/>\n",
              "  </svg>\n",
              "      </button>\n",
              "      \n",
              "  <style>\n",
              "    .colab-df-container {\n",
              "      display:flex;\n",
              "      flex-wrap:wrap;\n",
              "      gap: 12px;\n",
              "    }\n",
              "\n",
              "    .colab-df-convert {\n",
              "      background-color: #E8F0FE;\n",
              "      border: none;\n",
              "      border-radius: 50%;\n",
              "      cursor: pointer;\n",
              "      display: none;\n",
              "      fill: #1967D2;\n",
              "      height: 32px;\n",
              "      padding: 0 0 0 0;\n",
              "      width: 32px;\n",
              "    }\n",
              "\n",
              "    .colab-df-convert:hover {\n",
              "      background-color: #E2EBFA;\n",
              "      box-shadow: 0px 1px 2px rgba(60, 64, 67, 0.3), 0px 1px 3px 1px rgba(60, 64, 67, 0.15);\n",
              "      fill: #174EA6;\n",
              "    }\n",
              "\n",
              "    [theme=dark] .colab-df-convert {\n",
              "      background-color: #3B4455;\n",
              "      fill: #D2E3FC;\n",
              "    }\n",
              "\n",
              "    [theme=dark] .colab-df-convert:hover {\n",
              "      background-color: #434B5C;\n",
              "      box-shadow: 0px 1px 3px 1px rgba(0, 0, 0, 0.15);\n",
              "      filter: drop-shadow(0px 1px 2px rgba(0, 0, 0, 0.3));\n",
              "      fill: #FFFFFF;\n",
              "    }\n",
              "  </style>\n",
              "\n",
              "      <script>\n",
              "        const buttonEl =\n",
              "          document.querySelector('#df-3e42b057-f4f0-48b6-b3f3-73b6cdb81146 button.colab-df-convert');\n",
              "        buttonEl.style.display =\n",
              "          google.colab.kernel.accessAllowed ? 'block' : 'none';\n",
              "\n",
              "        async function convertToInteractive(key) {\n",
              "          const element = document.querySelector('#df-3e42b057-f4f0-48b6-b3f3-73b6cdb81146');\n",
              "          const dataTable =\n",
              "            await google.colab.kernel.invokeFunction('convertToInteractive',\n",
              "                                                     [key], {});\n",
              "          if (!dataTable) return;\n",
              "\n",
              "          const docLinkHtml = 'Like what you see? Visit the ' +\n",
              "            '<a target=\"_blank\" href=https://colab.research.google.com/notebooks/data_table.ipynb>data table notebook</a>'\n",
              "            + ' to learn more about interactive tables.';\n",
              "          element.innerHTML = '';\n",
              "          dataTable['output_type'] = 'display_data';\n",
              "          await google.colab.output.renderOutput(dataTable, element);\n",
              "          const docLink = document.createElement('div');\n",
              "          docLink.innerHTML = docLinkHtml;\n",
              "          element.appendChild(docLink);\n",
              "        }\n",
              "      </script>\n",
              "    </div>\n",
              "  </div>\n",
              "  "
            ]
          },
          "metadata": {},
          "execution_count": 5
        }
      ]
    },
    {
      "cell_type": "code",
      "source": [
        "vball_df.drop(index=68,inplace=True)\n",
        "vball_df.drop(index=212,inplace=True)\n",
        "vball_df.drop(index=356,inplace=True)"
      ],
      "metadata": {
        "id": "MFMR4-kKz1Kp"
      },
      "execution_count": 6,
      "outputs": []
    },
    {
      "cell_type": "code",
      "source": [
        "vball_df.describe()\n"
      ],
      "metadata": {
        "id": "aJoXRdYdz2Ps",
        "colab": {
          "base_uri": "https://localhost:8080/",
          "height": 300
        },
        "outputId": "1ffe342a-1efa-4ac4-c58b-852a25489d27"
      },
      "execution_count": 7,
      "outputs": [
        {
          "output_type": "execute_result",
          "data": {
            "text/plain": [
              "            block     country      height  position_number      spike  \\\n",
              "count  429.000000  429.000000  429.000000       429.000000  429.00000   \n",
              "mean   277.433566   19.706294  181.000000         2.748252  288.79021   \n",
              "std     24.027017    8.498350    8.239692         1.413231   25.57722   \n",
              "min    178.000000    5.000000  153.000000         1.000000  178.00000   \n",
              "25%    274.000000   10.000000  175.000000         2.000000  285.00000   \n",
              "50%    283.000000   23.000000  182.000000         2.000000  294.00000   \n",
              "75%    292.000000   29.000000  187.000000         3.000000  304.00000   \n",
              "max    310.000000   31.000000  199.000000         6.000000  336.00000   \n",
              "\n",
              "           weight  \n",
              "count  429.000000  \n",
              "mean    68.727273  \n",
              "std      7.367695  \n",
              "min     52.000000  \n",
              "25%     63.000000  \n",
              "50%     69.000000  \n",
              "75%     73.000000  \n",
              "max     87.000000  "
            ],
            "text/html": [
              "\n",
              "  <div id=\"df-7a906c4e-75e3-42b4-816c-1f47e3836710\">\n",
              "    <div class=\"colab-df-container\">\n",
              "      <div>\n",
              "<style scoped>\n",
              "    .dataframe tbody tr th:only-of-type {\n",
              "        vertical-align: middle;\n",
              "    }\n",
              "\n",
              "    .dataframe tbody tr th {\n",
              "        vertical-align: top;\n",
              "    }\n",
              "\n",
              "    .dataframe thead th {\n",
              "        text-align: right;\n",
              "    }\n",
              "</style>\n",
              "<table border=\"1\" class=\"dataframe\">\n",
              "  <thead>\n",
              "    <tr style=\"text-align: right;\">\n",
              "      <th></th>\n",
              "      <th>block</th>\n",
              "      <th>country</th>\n",
              "      <th>height</th>\n",
              "      <th>position_number</th>\n",
              "      <th>spike</th>\n",
              "      <th>weight</th>\n",
              "    </tr>\n",
              "  </thead>\n",
              "  <tbody>\n",
              "    <tr>\n",
              "      <th>count</th>\n",
              "      <td>429.000000</td>\n",
              "      <td>429.000000</td>\n",
              "      <td>429.000000</td>\n",
              "      <td>429.000000</td>\n",
              "      <td>429.00000</td>\n",
              "      <td>429.000000</td>\n",
              "    </tr>\n",
              "    <tr>\n",
              "      <th>mean</th>\n",
              "      <td>277.433566</td>\n",
              "      <td>19.706294</td>\n",
              "      <td>181.000000</td>\n",
              "      <td>2.748252</td>\n",
              "      <td>288.79021</td>\n",
              "      <td>68.727273</td>\n",
              "    </tr>\n",
              "    <tr>\n",
              "      <th>std</th>\n",
              "      <td>24.027017</td>\n",
              "      <td>8.498350</td>\n",
              "      <td>8.239692</td>\n",
              "      <td>1.413231</td>\n",
              "      <td>25.57722</td>\n",
              "      <td>7.367695</td>\n",
              "    </tr>\n",
              "    <tr>\n",
              "      <th>min</th>\n",
              "      <td>178.000000</td>\n",
              "      <td>5.000000</td>\n",
              "      <td>153.000000</td>\n",
              "      <td>1.000000</td>\n",
              "      <td>178.00000</td>\n",
              "      <td>52.000000</td>\n",
              "    </tr>\n",
              "    <tr>\n",
              "      <th>25%</th>\n",
              "      <td>274.000000</td>\n",
              "      <td>10.000000</td>\n",
              "      <td>175.000000</td>\n",
              "      <td>2.000000</td>\n",
              "      <td>285.00000</td>\n",
              "      <td>63.000000</td>\n",
              "    </tr>\n",
              "    <tr>\n",
              "      <th>50%</th>\n",
              "      <td>283.000000</td>\n",
              "      <td>23.000000</td>\n",
              "      <td>182.000000</td>\n",
              "      <td>2.000000</td>\n",
              "      <td>294.00000</td>\n",
              "      <td>69.000000</td>\n",
              "    </tr>\n",
              "    <tr>\n",
              "      <th>75%</th>\n",
              "      <td>292.000000</td>\n",
              "      <td>29.000000</td>\n",
              "      <td>187.000000</td>\n",
              "      <td>3.000000</td>\n",
              "      <td>304.00000</td>\n",
              "      <td>73.000000</td>\n",
              "    </tr>\n",
              "    <tr>\n",
              "      <th>max</th>\n",
              "      <td>310.000000</td>\n",
              "      <td>31.000000</td>\n",
              "      <td>199.000000</td>\n",
              "      <td>6.000000</td>\n",
              "      <td>336.00000</td>\n",
              "      <td>87.000000</td>\n",
              "    </tr>\n",
              "  </tbody>\n",
              "</table>\n",
              "</div>\n",
              "      <button class=\"colab-df-convert\" onclick=\"convertToInteractive('df-7a906c4e-75e3-42b4-816c-1f47e3836710')\"\n",
              "              title=\"Convert this dataframe to an interactive table.\"\n",
              "              style=\"display:none;\">\n",
              "        \n",
              "  <svg xmlns=\"http://www.w3.org/2000/svg\" height=\"24px\"viewBox=\"0 0 24 24\"\n",
              "       width=\"24px\">\n",
              "    <path d=\"M0 0h24v24H0V0z\" fill=\"none\"/>\n",
              "    <path d=\"M18.56 5.44l.94 2.06.94-2.06 2.06-.94-2.06-.94-.94-2.06-.94 2.06-2.06.94zm-11 1L8.5 8.5l.94-2.06 2.06-.94-2.06-.94L8.5 2.5l-.94 2.06-2.06.94zm10 10l.94 2.06.94-2.06 2.06-.94-2.06-.94-.94-2.06-.94 2.06-2.06.94z\"/><path d=\"M17.41 7.96l-1.37-1.37c-.4-.4-.92-.59-1.43-.59-.52 0-1.04.2-1.43.59L10.3 9.45l-7.72 7.72c-.78.78-.78 2.05 0 2.83L4 21.41c.39.39.9.59 1.41.59.51 0 1.02-.2 1.41-.59l7.78-7.78 2.81-2.81c.8-.78.8-2.07 0-2.86zM5.41 20L4 18.59l7.72-7.72 1.47 1.35L5.41 20z\"/>\n",
              "  </svg>\n",
              "      </button>\n",
              "      \n",
              "  <style>\n",
              "    .colab-df-container {\n",
              "      display:flex;\n",
              "      flex-wrap:wrap;\n",
              "      gap: 12px;\n",
              "    }\n",
              "\n",
              "    .colab-df-convert {\n",
              "      background-color: #E8F0FE;\n",
              "      border: none;\n",
              "      border-radius: 50%;\n",
              "      cursor: pointer;\n",
              "      display: none;\n",
              "      fill: #1967D2;\n",
              "      height: 32px;\n",
              "      padding: 0 0 0 0;\n",
              "      width: 32px;\n",
              "    }\n",
              "\n",
              "    .colab-df-convert:hover {\n",
              "      background-color: #E2EBFA;\n",
              "      box-shadow: 0px 1px 2px rgba(60, 64, 67, 0.3), 0px 1px 3px 1px rgba(60, 64, 67, 0.15);\n",
              "      fill: #174EA6;\n",
              "    }\n",
              "\n",
              "    [theme=dark] .colab-df-convert {\n",
              "      background-color: #3B4455;\n",
              "      fill: #D2E3FC;\n",
              "    }\n",
              "\n",
              "    [theme=dark] .colab-df-convert:hover {\n",
              "      background-color: #434B5C;\n",
              "      box-shadow: 0px 1px 3px 1px rgba(0, 0, 0, 0.15);\n",
              "      filter: drop-shadow(0px 1px 2px rgba(0, 0, 0, 0.3));\n",
              "      fill: #FFFFFF;\n",
              "    }\n",
              "  </style>\n",
              "\n",
              "      <script>\n",
              "        const buttonEl =\n",
              "          document.querySelector('#df-7a906c4e-75e3-42b4-816c-1f47e3836710 button.colab-df-convert');\n",
              "        buttonEl.style.display =\n",
              "          google.colab.kernel.accessAllowed ? 'block' : 'none';\n",
              "\n",
              "        async function convertToInteractive(key) {\n",
              "          const element = document.querySelector('#df-7a906c4e-75e3-42b4-816c-1f47e3836710');\n",
              "          const dataTable =\n",
              "            await google.colab.kernel.invokeFunction('convertToInteractive',\n",
              "                                                     [key], {});\n",
              "          if (!dataTable) return;\n",
              "\n",
              "          const docLinkHtml = 'Like what you see? Visit the ' +\n",
              "            '<a target=\"_blank\" href=https://colab.research.google.com/notebooks/data_table.ipynb>data table notebook</a>'\n",
              "            + ' to learn more about interactive tables.';\n",
              "          element.innerHTML = '';\n",
              "          dataTable['output_type'] = 'display_data';\n",
              "          await google.colab.output.renderOutput(dataTable, element);\n",
              "          const docLink = document.createElement('div');\n",
              "          docLink.innerHTML = docLinkHtml;\n",
              "          element.appendChild(docLink);\n",
              "        }\n",
              "      </script>\n",
              "    </div>\n",
              "  </div>\n",
              "  "
            ]
          },
          "metadata": {},
          "execution_count": 7
        }
      ]
    },
    {
      "cell_type": "code",
      "source": [
        "#make position number and country categorical variables\n",
        "vball_df\n",
        "vball_df['position_number']\n",
        "pd.Categorical(vball_df['position_number'])\n",
        "pd.Categorical(vball_df['country'])\n",
        "print(vball_df['position_number'])\n",
        "print(vball_df['country'])"
      ],
      "metadata": {
        "id": "-ApatpRtz5GI",
        "colab": {
          "base_uri": "https://localhost:8080/"
        },
        "outputId": "c3fd28e7-20fa-468c-da90-717f5024015e"
      },
      "execution_count": 8,
      "outputs": [
        {
          "output_type": "stream",
          "name": "stdout",
          "text": [
            "0      3\n",
            "1      1\n",
            "2      2\n",
            "3      6\n",
            "4      1\n",
            "      ..\n",
            "427    2\n",
            "428    3\n",
            "429    1\n",
            "430    1\n",
            "431    3\n",
            "Name: position_number, Length: 429, dtype: int64\n",
            "0      23\n",
            "1      23\n",
            "2      23\n",
            "3      23\n",
            "4      23\n",
            "       ..\n",
            "427    26\n",
            "428    26\n",
            "429    26\n",
            "430    26\n",
            "431    26\n",
            "Name: country, Length: 429, dtype: int64\n"
          ]
        }
      ]
    },
    {
      "cell_type": "code",
      "source": [
        "setter = vball_df[vball_df[\"position_number\"] ==1]\n",
        "outside = vball_df[vball_df[\"position_number\"] ==2]\n",
        "middle = vball_df[vball_df[\"position_number\"] ==3]\n",
        "opposite = vball_df[vball_df[\"position_number\"] ==4]\n",
        "libero = vball_df[vball_df[\"position_number\"] ==6]"
      ],
      "metadata": {
        "id": "NMo_3WytJVis"
      },
      "execution_count": 9,
      "outputs": []
    },
    {
      "cell_type": "code",
      "source": [
        "# Import regression modules\n",
        "# ols - stands for Ordinary least squares, we'll use this\n",
        "import statsmodels.api as sm\n",
        "from statsmodels.formula.api import ols\n",
        "# statsmodels works nicely with pandas dataframes\n",
        "# The thing inside the \"quotes\" is called a formula, a bit on that below\n",
        "a = ols('spike ~ height',setter).fit()\n",
        "print(a.summary())"
      ],
      "metadata": {
        "id": "wsuclk6ez8_8",
        "colab": {
          "base_uri": "https://localhost:8080/"
        },
        "outputId": "e6a8b1cb-83a8-4c7f-919c-1f2ef14858d8"
      },
      "execution_count": 10,
      "outputs": [
        {
          "output_type": "stream",
          "name": "stdout",
          "text": [
            "                            OLS Regression Results                            \n",
            "==============================================================================\n",
            "Dep. Variable:                  spike   R-squared:                       0.367\n",
            "Model:                            OLS   Adj. R-squared:                  0.358\n",
            "Method:                 Least Squares   F-statistic:                     42.26\n",
            "Date:                Fri, 10 Jun 2022   Prob (F-statistic):           8.65e-09\n",
            "Time:                        01:28:14   Log-Likelihood:                -319.43\n",
            "No. Observations:                  75   AIC:                             642.9\n",
            "Df Residuals:                      73   BIC:                             647.5\n",
            "Df Model:                           1                                         \n",
            "Covariance Type:            nonrobust                                         \n",
            "==============================================================================\n",
            "                 coef    std err          t      P>|t|      [0.025      0.975]\n",
            "------------------------------------------------------------------------------\n",
            "Intercept    -52.2595     52.046     -1.004      0.319    -155.987      51.468\n",
            "height         1.9115      0.294      6.501      0.000       1.325       2.497\n",
            "==============================================================================\n",
            "Omnibus:                       63.281   Durbin-Watson:                   2.008\n",
            "Prob(Omnibus):                  0.000   Jarque-Bera (JB):              335.765\n",
            "Skew:                          -2.608   Prob(JB):                     1.23e-73\n",
            "Kurtosis:                      11.957   Cond. No.                     4.60e+03\n",
            "==============================================================================\n",
            "\n",
            "Warnings:\n",
            "[1] Standard Errors assume that the covariance matrix of the errors is correctly specified.\n",
            "[2] The condition number is large, 4.6e+03. This might indicate that there are\n",
            "strong multicollinearity or other numerical problems.\n"
          ]
        }
      ]
    },
    {
      "cell_type": "code",
      "source": [
        "plt.scatter(setter['spike'], a.fittedvalues)\n",
        "plt.xlabel(\"Setter Spike Height: $Y_i$\")\n",
        "plt.ylabel(\"Predicted Setter Spike Height: $\\hat{Y}_i$\")\n",
        "plt.title(\"Setter Spike Height vs Predicted Setter Spike Height: $Y_i$ vs $\\hat{Y}_i$\")"
      ],
      "metadata": {
        "id": "ZykBjqhPIJbw",
        "colab": {
          "base_uri": "https://localhost:8080/",
          "height": 329
        },
        "outputId": "4ed64e88-ab7a-4ba5-98cd-9932eda5c7fa"
      },
      "execution_count": 40,
      "outputs": [
        {
          "output_type": "execute_result",
          "data": {
            "text/plain": [
              "Text(0.5, 1.0, 'Setter Spike Height vs Predicted Setter Spike Height: $Y_i$ vs $\\\\hat{Y}_i$')"
            ]
          },
          "metadata": {},
          "execution_count": 40
        },
        {
          "output_type": "display_data",
          "data": {
            "text/plain": [
              "<Figure size 432x288 with 1 Axes>"
            ],
            "image/png": "[encoded data removed]"
          },
          "metadata": {}
        }
      ]
    },
    {
      "cell_type": "code",
      "source": [
        "from sklearn.linear_model import LinearRegression\n",
        "A = setter.drop('spike', axis = 1)\n",
        "\n",
        "# This creates a LinearRegression object\n",
        "lm = LinearRegression()\n",
        "lm"
      ],
      "metadata": {
        "colab": {
          "base_uri": "https://localhost:8080/"
        },
        "id": "OiESUAmhItrr",
        "outputId": "89587e2b-f2d8-45d8-fd79-d0c4b119c49a"
      },
      "execution_count": 12,
      "outputs": [
        {
          "output_type": "execute_result",
          "data": {
            "text/plain": [
              "LinearRegression()"
            ]
          },
          "metadata": {},
          "execution_count": 12
        }
      ]
    },
    {
      "cell_type": "code",
      "source": [
        "lm.fit(A, setter.spike)"
      ],
      "metadata": {
        "colab": {
          "base_uri": "https://localhost:8080/"
        },
        "id": "fIbtExK5IuVb",
        "outputId": "29b7e627-2063-4aa8-d249-db2a925f9eda"
      },
      "execution_count": 13,
      "outputs": [
        {
          "output_type": "execute_result",
          "data": {
            "text/plain": [
              "LinearRegression()"
            ]
          },
          "metadata": {},
          "execution_count": 13
        }
      ]
    },
    {
      "cell_type": "code",
      "source": [
        "print('Estimated intercept coefficient:', lm.intercept_)"
      ],
      "metadata": {
        "colab": {
          "base_uri": "https://localhost:8080/"
        },
        "id": "3cv1u1q23FI5",
        "outputId": "13d4b6e5-a3f1-4a62-aa41-a16df7316d92"
      },
      "execution_count": 14,
      "outputs": [
        {
          "output_type": "stream",
          "name": "stdout",
          "text": [
            "Estimated intercept coefficient: -13.842204796929082\n"
          ]
        }
      ]
    },
    {
      "cell_type": "code",
      "source": [
        "print('Number of coefficients:', len(lm.coef_))"
      ],
      "metadata": {
        "colab": {
          "base_uri": "https://localhost:8080/"
        },
        "id": "0ovHrvur3GlR",
        "outputId": "c0e8cd76-63e9-4f10-f8ce-104a338a5fc8"
      },
      "execution_count": 15,
      "outputs": [
        {
          "output_type": "stream",
          "name": "stdout",
          "text": [
            "Number of coefficients: 5\n"
          ]
        }
      ]
    },
    {
      "cell_type": "code",
      "source": [
        "zip(A.columns, lm.coef_)"
      ],
      "metadata": {
        "colab": {
          "base_uri": "https://localhost:8080/"
        },
        "id": "6OlgQ02H3JNH",
        "outputId": "8b183195-c7f1-4530-afb0-9e5966543290"
      },
      "execution_count": 16,
      "outputs": [
        {
          "output_type": "execute_result",
          "data": {
            "text/plain": [
              "<zip at 0x7ff2e37bf2d0>"
            ]
          },
          "metadata": {},
          "execution_count": 16
        }
      ]
    },
    {
      "cell_type": "code",
      "source": [
        "# The coefficients\n",
        "pd.DataFrame(zip(A.columns, lm.coef_), columns = ['features', 'estimatedCoefficients'])"
      ],
      "metadata": {
        "id": "jxfodMVO3M2w",
        "colab": {
          "base_uri": "https://localhost:8080/",
          "height": 206
        },
        "outputId": "7bd72417-0891-4cd1-c417-431045d08a76"
      },
      "execution_count": 18,
      "outputs": [
        {
          "output_type": "execute_result",
          "data": {
            "text/plain": [
              "          features  estimatedCoefficients\n",
              "0            block               0.657298\n",
              "1          country              -0.128744\n",
              "2           height               0.710645\n",
              "3  position_number               0.000000\n",
              "4           weight              -0.056468"
            ],
            "text/html": [
              "\n",
              "  <div id=\"df-8aba2fb2-9cec-450f-bbd0-1eb8e875624c\">\n",
              "    <div class=\"colab-df-container\">\n",
              "      <div>\n",
              "<style scoped>\n",
              "    .dataframe tbody tr th:only-of-type {\n",
              "        vertical-align: middle;\n",
              "    }\n",
              "\n",
              "    .dataframe tbody tr th {\n",
              "        vertical-align: top;\n",
              "    }\n",
              "\n",
              "    .dataframe thead th {\n",
              "        text-align: right;\n",
              "    }\n",
              "</style>\n",
              "<table border=\"1\" class=\"dataframe\">\n",
              "  <thead>\n",
              "    <tr style=\"text-align: right;\">\n",
              "      <th></th>\n",
              "      <th>features</th>\n",
              "      <th>estimatedCoefficients</th>\n",
              "    </tr>\n",
              "  </thead>\n",
              "  <tbody>\n",
              "    <tr>\n",
              "      <th>0</th>\n",
              "      <td>block</td>\n",
              "      <td>0.657298</td>\n",
              "    </tr>\n",
              "    <tr>\n",
              "      <th>1</th>\n",
              "      <td>country</td>\n",
              "      <td>-0.128744</td>\n",
              "    </tr>\n",
              "    <tr>\n",
              "      <th>2</th>\n",
              "      <td>height</td>\n",
              "      <td>0.710645</td>\n",
              "    </tr>\n",
              "    <tr>\n",
              "      <th>3</th>\n",
              "      <td>position_number</td>\n",
              "      <td>0.000000</td>\n",
              "    </tr>\n",
              "    <tr>\n",
              "      <th>4</th>\n",
              "      <td>weight</td>\n",
              "      <td>-0.056468</td>\n",
              "    </tr>\n",
              "  </tbody>\n",
              "</table>\n",
              "</div>\n",
              "      <button class=\"colab-df-convert\" onclick=\"convertToInteractive('df-8aba2fb2-9cec-450f-bbd0-1eb8e875624c')\"\n",
              "              title=\"Convert this dataframe to an interactive table.\"\n",
              "              style=\"display:none;\">\n",
              "        \n",
              "  <svg xmlns=\"http://www.w3.org/2000/svg\" height=\"24px\"viewBox=\"0 0 24 24\"\n",
              "       width=\"24px\">\n",
              "    <path d=\"M0 0h24v24H0V0z\" fill=\"none\"/>\n",
              "    <path d=\"M18.56 5.44l.94 2.06.94-2.06 2.06-.94-2.06-.94-.94-2.06-.94 2.06-2.06.94zm-11 1L8.5 8.5l.94-2.06 2.06-.94-2.06-.94L8.5 2.5l-.94 2.06-2.06.94zm10 10l.94 2.06.94-2.06 2.06-.94-2.06-.94-.94-2.06-.94 2.06-2.06.94z\"/><path d=\"M17.41 7.96l-1.37-1.37c-.4-.4-.92-.59-1.43-.59-.52 0-1.04.2-1.43.59L10.3 9.45l-7.72 7.72c-.78.78-.78 2.05 0 2.83L4 21.41c.39.39.9.59 1.41.59.51 0 1.02-.2 1.41-.59l7.78-7.78 2.81-2.81c.8-.78.8-2.07 0-2.86zM5.41 20L4 18.59l7.72-7.72 1.47 1.35L5.41 20z\"/>\n",
              "  </svg>\n",
              "      </button>\n",
              "      \n",
              "  <style>\n",
              "    .colab-df-container {\n",
              "      display:flex;\n",
              "      flex-wrap:wrap;\n",
              "      gap: 12px;\n",
              "    }\n",
              "\n",
              "    .colab-df-convert {\n",
              "      background-color: #E8F0FE;\n",
              "      border: none;\n",
              "      border-radius: 50%;\n",
              "      cursor: pointer;\n",
              "      display: none;\n",
              "      fill: #1967D2;\n",
              "      height: 32px;\n",
              "      padding: 0 0 0 0;\n",
              "      width: 32px;\n",
              "    }\n",
              "\n",
              "    .colab-df-convert:hover {\n",
              "      background-color: #E2EBFA;\n",
              "      box-shadow: 0px 1px 2px rgba(60, 64, 67, 0.3), 0px 1px 3px 1px rgba(60, 64, 67, 0.15);\n",
              "      fill: #174EA6;\n",
              "    }\n",
              "\n",
              "    [theme=dark] .colab-df-convert {\n",
              "      background-color: #3B4455;\n",
              "      fill: #D2E3FC;\n",
              "    }\n",
              "\n",
              "    [theme=dark] .colab-df-convert:hover {\n",
              "      background-color: #434B5C;\n",
              "      box-shadow: 0px 1px 3px 1px rgba(0, 0, 0, 0.15);\n",
              "      filter: drop-shadow(0px 1px 2px rgba(0, 0, 0, 0.3));\n",
              "      fill: #FFFFFF;\n",
              "    }\n",
              "  </style>\n",
              "\n",
              "      <script>\n",
              "        const buttonEl =\n",
              "          document.querySelector('#df-8aba2fb2-9cec-450f-bbd0-1eb8e875624c button.colab-df-convert');\n",
              "        buttonEl.style.display =\n",
              "          google.colab.kernel.accessAllowed ? 'block' : 'none';\n",
              "\n",
              "        async function convertToInteractive(key) {\n",
              "          const element = document.querySelector('#df-8aba2fb2-9cec-450f-bbd0-1eb8e875624c');\n",
              "          const dataTable =\n",
              "            await google.colab.kernel.invokeFunction('convertToInteractive',\n",
              "                                                     [key], {});\n",
              "          if (!dataTable) return;\n",
              "\n",
              "          const docLinkHtml = 'Like what you see? Visit the ' +\n",
              "            '<a target=\"_blank\" href=https://colab.research.google.com/notebooks/data_table.ipynb>data table notebook</a>'\n",
              "            + ' to learn more about interactive tables.';\n",
              "          element.innerHTML = '';\n",
              "          dataTable['output_type'] = 'display_data';\n",
              "          await google.colab.output.renderOutput(dataTable, element);\n",
              "          const docLink = document.createElement('div');\n",
              "          docLink.innerHTML = docLinkHtml;\n",
              "          element.appendChild(docLink);\n",
              "        }\n",
              "      </script>\n",
              "    </div>\n",
              "  </div>\n",
              "  "
            ]
          },
          "metadata": {},
          "execution_count": 18
        }
      ]
    },
    {
      "cell_type": "code",
      "source": [
        "# first five predicted prices\n",
        "lm.predict(A)[0:5]"
      ],
      "metadata": {
        "colab": {
          "base_uri": "https://localhost:8080/"
        },
        "id": "XSPgYhj2I2Mc",
        "outputId": "261f1eb2-7f64-4cd5-f769-50e14174f8a5"
      },
      "execution_count": 19,
      "outputs": [
        {
          "output_type": "execute_result",
          "data": {
            "text/plain": [
              "array([295.19760455, 288.62774222, 281.99018036, 299.17573705,\n",
              "       287.23697412])"
            ]
          },
          "metadata": {},
          "execution_count": 19
        }
      ]
    },
    {
      "cell_type": "code",
      "source": [
        "plt.scatter(setter.spike, lm.predict(A))\n",
        "plt.xlabel(\"Setter Spike Height: $Y_i$\")\n",
        "plt.ylabel(\"Predicted Setter Spike Height: $\\hat{Y}_i$\")\n",
        "plt.title(\"Setter Spike Height vs Predicted Setter Spike Height: $Y_i$ vs $\\hat{Y}_i$\")"
      ],
      "metadata": {
        "colab": {
          "base_uri": "https://localhost:8080/",
          "height": 329
        },
        "id": "RIDU3kI9I7zY",
        "outputId": "d3bc6e08-c885-458f-d2a4-326fbc19eda3"
      },
      "execution_count": 20,
      "outputs": [
        {
          "output_type": "execute_result",
          "data": {
            "text/plain": [
              "Text(0.5, 1.0, 'Setter Spike Height vs Predicted Setter Spike Height: $Y_i$ vs $\\\\hat{Y}_i$')"
            ]
          },
          "metadata": {},
          "execution_count": 20
        },
        {
          "output_type": "display_data",
          "data": {
            "text/plain": [
              "<Figure size 432x288 with 1 Axes>"
            ],
            "image/png": "[encoded data removed]"
          },
          "metadata": {}
        }
      ]
    },
    {
      "cell_type": "code",
      "source": [
        "## residual sum of squares\n",
        "print(np.sum((setter.spike - lm.predict(A)) ** 2))"
      ],
      "metadata": {
        "colab": {
          "base_uri": "https://localhost:8080/"
        },
        "id": "p83_g_60I92n",
        "outputId": "5badcace-164b-43a6-f343-bd73ecab4b18"
      },
      "execution_count": 21,
      "outputs": [
        {
          "output_type": "stream",
          "name": "stdout",
          "text": [
            "13277.34458928513\n"
          ]
        }
      ]
    },
    {
      "cell_type": "code",
      "source": [
        "##mean squared error\n",
        "mseFull = np.mean((setter.spike- lm.predict(A)) ** 2)\n",
        "print(mseFull)"
      ],
      "metadata": {
        "colab": {
          "base_uri": "https://localhost:8080/"
        },
        "id": "i15XcHQ4JEzH",
        "outputId": "b3653821-89d4-41a7-f1fe-c5fe5b5a5274"
      },
      "execution_count": 22,
      "outputs": [
        {
          "output_type": "stream",
          "name": "stdout",
          "text": [
            "177.0312611904684\n"
          ]
        }
      ]
    },
    {
      "cell_type": "markdown",
      "source": [
        "FOR OUTSIDE HITTER"
      ],
      "metadata": {
        "id": "bd_yKMWc_B5B"
      }
    },
    {
      "cell_type": "code",
      "source": [
        "b = ols('spike ~ height',outside).fit()\n",
        "print(b.summary())"
      ],
      "metadata": {
        "id": "cvMOyhtg8mGU",
        "colab": {
          "base_uri": "https://localhost:8080/"
        },
        "outputId": "1c9ec139-6ea7-487b-939b-7d4c9724927b"
      },
      "execution_count": 23,
      "outputs": [
        {
          "output_type": "stream",
          "name": "stdout",
          "text": [
            "                            OLS Regression Results                            \n",
            "==============================================================================\n",
            "Dep. Variable:                  spike   R-squared:                       0.447\n",
            "Model:                            OLS   Adj. R-squared:                  0.443\n",
            "Method:                 Least Squares   F-statistic:                     114.8\n",
            "Date:                Fri, 10 Jun 2022   Prob (F-statistic):           5.37e-20\n",
            "Time:                        01:28:39   Log-Likelihood:                -662.41\n",
            "No. Observations:                 144   AIC:                             1329.\n",
            "Df Residuals:                     142   BIC:                             1335.\n",
            "Df Model:                           1                                         \n",
            "Covariance Type:            nonrobust                                         \n",
            "==============================================================================\n",
            "                 coef    std err          t      P>|t|      [0.025      0.975]\n",
            "------------------------------------------------------------------------------\n",
            "Intercept   -212.9189     46.617     -4.567      0.000    -305.073    -120.765\n",
            "height         2.7733      0.259     10.713      0.000       2.262       3.285\n",
            "==============================================================================\n",
            "Omnibus:                       47.710   Durbin-Watson:                   2.107\n",
            "Prob(Omnibus):                  0.000   Jarque-Bera (JB):               96.901\n",
            "Skew:                          -1.475   Prob(JB):                     9.08e-22\n",
            "Kurtosis:                       5.729   Cond. No.                     4.16e+03\n",
            "==============================================================================\n",
            "\n",
            "Warnings:\n",
            "[1] Standard Errors assume that the covariance matrix of the errors is correctly specified.\n",
            "[2] The condition number is large, 4.16e+03. This might indicate that there are\n",
            "strong multicollinearity or other numerical problems.\n"
          ]
        }
      ]
    },
    {
      "cell_type": "code",
      "source": [
        "plt.scatter(outside['spike'], b.fittedvalues)\n",
        "plt.xlabel(\"Outside Spike Height: $Y_i$\")\n",
        "plt.ylabel(\"Predicted Outside Spike Height: $\\hat{Y}_i$\")\n",
        "plt.title(\"Outside Height vs Predicted Outside Spike Height: $Y_i$ vs $\\hat{Y}_i$\")"
      ],
      "metadata": {
        "colab": {
          "base_uri": "https://localhost:8080/",
          "height": 329
        },
        "id": "bMZJUbh98sLs",
        "outputId": "25ccff4c-ad71-49db-9431-1fbba71694d0"
      },
      "execution_count": 24,
      "outputs": [
        {
          "output_type": "execute_result",
          "data": {
            "text/plain": [
              "Text(0.5, 1.0, 'Outside Height vs Predicted Outside Spike Height: $Y_i$ vs $\\\\hat{Y}_i$')"
            ]
          },
          "metadata": {},
          "execution_count": 24
        },
        {
          "output_type": "display_data",
          "data": {
            "text/plain": [
              "<Figure size 432x288 with 1 Axes>"
            ],
            "image/png": "[encoded data removed]"
          },
          "metadata": {}
        }
      ]
    },
    {
      "cell_type": "code",
      "source": [
        "B = outside.drop('spike', axis = 1)\n",
        "lm.fit(B, outside.spike)\n",
        "print('Estimated intercept coefficient:', lm.intercept_)\n",
        "print('Number of coefficients:', len(lm.coef_))\n",
        "zip(B.columns, lm.coef_)\n",
        "pd.DataFrame(zip(B.columns, lm.coef_), columns = ['features', 'estimatedCoefficients'])\n",
        "lm.predict(B)[0:5]\n",
        "plt.scatter(outside['spike'], lm.predict(B))\n",
        "plt.xlabel(\"Outside Spike Height: $Y_i$\")\n",
        "plt.ylabel(\"Predicted Outside Spike Height: $\\hat{Y}_i$\")\n",
        "plt.title(\"Outside Height vs Predicted Outside Spike Height: $Y_i$ vs $\\hat{Y}_i$\")"
      ],
      "metadata": {
        "colab": {
          "base_uri": "https://localhost:8080/",
          "height": 365
        },
        "id": "WMXeiLUn9it6",
        "outputId": "3493a125-2622-4b25-f542-f05f1b81a79e"
      },
      "execution_count": 25,
      "outputs": [
        {
          "output_type": "stream",
          "name": "stdout",
          "text": [
            "Estimated intercept coefficient: -74.53801832473664\n",
            "Number of coefficients: 5\n"
          ]
        },
        {
          "output_type": "execute_result",
          "data": {
            "text/plain": [
              "Text(0.5, 1.0, 'Outside Height vs Predicted Outside Spike Height: $Y_i$ vs $\\\\hat{Y}_i$')"
            ]
          },
          "metadata": {},
          "execution_count": 25
        },
        {
          "output_type": "display_data",
          "data": {
            "text/plain": [
              "<Figure size 432x288 with 1 Axes>"
            ],
            "image/png": "[encoded data removed]"
          },
          "metadata": {}
        }
      ]
    },
    {
      "cell_type": "code",
      "source": [
        "## residual sum of squares\n",
        "print(np.sum((outside.spike - lm.predict(B)) ** 2))\n",
        "##mean squared error\n",
        "mseFull = np.mean((outside.spike - lm.predict(B)) ** 2)\n",
        "print(mseFull)"
      ],
      "metadata": {
        "colab": {
          "base_uri": "https://localhost:8080/"
        },
        "id": "SrvsEXn2_Y8G",
        "outputId": "3878f7dd-a9f2-4441-9a06-e10d77f976d1"
      },
      "execution_count": 26,
      "outputs": [
        {
          "output_type": "stream",
          "name": "stdout",
          "text": [
            "16382.142435101268\n",
            "113.76487802153662\n"
          ]
        }
      ]
    },
    {
      "cell_type": "markdown",
      "source": [
        "FOR OPPOSITE HITTER"
      ],
      "metadata": {
        "id": "ZpY1qVGv_ebE"
      }
    },
    {
      "cell_type": "code",
      "source": [
        "c = ols('spike ~ height',opposite).fit()\n",
        "print(c.summary())"
      ],
      "metadata": {
        "colab": {
          "base_uri": "https://localhost:8080/"
        },
        "id": "gCEweK4F_jVE",
        "outputId": "5c11d4d9-9f4d-4420-898e-0c891da5b9b8"
      },
      "execution_count": 27,
      "outputs": [
        {
          "output_type": "stream",
          "name": "stdout",
          "text": [
            "                            OLS Regression Results                            \n",
            "==============================================================================\n",
            "Dep. Variable:                  spike   R-squared:                       0.410\n",
            "Model:                            OLS   Adj. R-squared:                  0.400\n",
            "Method:                 Least Squares   F-statistic:                     40.37\n",
            "Date:                Fri, 10 Jun 2022   Prob (F-statistic):           3.53e-08\n",
            "Time:                        01:28:46   Log-Likelihood:                -251.43\n",
            "No. Observations:                  60   AIC:                             506.9\n",
            "Df Residuals:                      58   BIC:                             511.1\n",
            "Df Model:                           1                                         \n",
            "Covariance Type:            nonrobust                                         \n",
            "==============================================================================\n",
            "                 coef    std err          t      P>|t|      [0.025      0.975]\n",
            "------------------------------------------------------------------------------\n",
            "Intercept    -86.9189     60.529     -1.436      0.156    -208.081      34.243\n",
            "height         2.0777      0.327      6.354      0.000       1.423       2.732\n",
            "==============================================================================\n",
            "Omnibus:                        9.220   Durbin-Watson:                   2.544\n",
            "Prob(Omnibus):                  0.010   Jarque-Bera (JB):                9.169\n",
            "Skew:                          -0.738   Prob(JB):                       0.0102\n",
            "Kurtosis:                       4.221   Cond. No.                     5.34e+03\n",
            "==============================================================================\n",
            "\n",
            "Warnings:\n",
            "[1] Standard Errors assume that the covariance matrix of the errors is correctly specified.\n",
            "[2] The condition number is large, 5.34e+03. This might indicate that there are\n",
            "strong multicollinearity or other numerical problems.\n"
          ]
        }
      ]
    },
    {
      "cell_type": "code",
      "source": [
        "plt.scatter(opposite['spike'], c.fittedvalues)\n",
        "plt.xlabel(\"Opposite Spike Height: $Y_i$\")\n",
        "plt.ylabel(\"Predicted Opposite Spike Height: $\\hat{Y}_i$\")\n",
        "plt.title(\"Opposite Height vs Predicted Opposite Spike Height: $Y_i$ vs $\\hat{Y}_i$\")"
      ],
      "metadata": {
        "colab": {
          "base_uri": "https://localhost:8080/",
          "height": 329
        },
        "id": "6_pHSSRN_oPQ",
        "outputId": "a9c1fc36-b346-4e58-ace0-4a07df32ec49"
      },
      "execution_count": 28,
      "outputs": [
        {
          "output_type": "execute_result",
          "data": {
            "text/plain": [
              "Text(0.5, 1.0, 'Opposite Height vs Predicted Opposite Spike Height: $Y_i$ vs $\\\\hat{Y}_i$')"
            ]
          },
          "metadata": {},
          "execution_count": 28
        },
        {
          "output_type": "display_data",
          "data": {
            "text/plain": [
              "<Figure size 432x288 with 1 Axes>"
            ],
            "image/png": "[encoded data removed]"
          },
          "metadata": {}
        }
      ]
    },
    {
      "cell_type": "code",
      "source": [
        "C = opposite.drop('spike', axis = 1)\n",
        "lm.fit(C, opposite.spike)\n",
        "print('Estimated intercept coefficient:', lm.intercept_)\n",
        "print('Number of coefficients:', len(lm.coef_))\n",
        "zip(C.columns, lm.coef_)\n",
        "pd.DataFrame(zip(C.columns, lm.coef_), columns = ['features', 'estimatedCoefficients'])\n",
        "lm.predict(C)[0:5]\n",
        "plt.scatter(opposite['spike'], lm.predict(C))\n",
        "plt.xlabel(\"Opposite Spike Height: $Y_i$\")\n",
        "plt.ylabel(\"Predicted Opposite Spike Height: $\\hat{Y}_i$\")\n",
        "plt.title(\"Opposite Height vs Predicted Opposite Spike Height: $Y_i$ vs $\\hat{Y}_i$\")"
      ],
      "metadata": {
        "colab": {
          "base_uri": "https://localhost:8080/",
          "height": 365
        },
        "id": "QtIcB85p_4qT",
        "outputId": "7dd3f555-31ec-44ec-a7ec-82de4749a80f"
      },
      "execution_count": 29,
      "outputs": [
        {
          "output_type": "stream",
          "name": "stdout",
          "text": [
            "Estimated intercept coefficient: -117.93495295927875\n",
            "Number of coefficients: 5\n"
          ]
        },
        {
          "output_type": "execute_result",
          "data": {
            "text/plain": [
              "Text(0.5, 1.0, 'Opposite Height vs Predicted Opposite Spike Height: $Y_i$ vs $\\\\hat{Y}_i$')"
            ]
          },
          "metadata": {},
          "execution_count": 29
        },
        {
          "output_type": "display_data",
          "data": {
            "text/plain": [
              "<Figure size 432x288 with 1 Axes>"
            ],
            "image/png": "[encoded data removed]"
          },
          "metadata": {}
        }
      ]
    },
    {
      "cell_type": "code",
      "source": [
        "## residual sum of squares\n",
        "print(np.sum((opposite.spike - lm.predict(C)) ** 2))\n",
        "##mean squared error\n",
        "mseFull = np.mean((opposite.spike - lm.predict(C)) ** 2)\n",
        "print(mseFull)"
      ],
      "metadata": {
        "colab": {
          "base_uri": "https://localhost:8080/"
        },
        "id": "3KKTGUbhBQW2",
        "outputId": "371c49ee-a7b8-443c-fde5-08a8cf52833a"
      },
      "execution_count": 30,
      "outputs": [
        {
          "output_type": "stream",
          "name": "stdout",
          "text": [
            "10534.65544469063\n",
            "175.57759074484383\n"
          ]
        }
      ]
    },
    {
      "cell_type": "code",
      "source": [
        "FOR MIDDLE BLOCKER"
      ],
      "metadata": {
        "id": "HpykYxc0BXSH",
        "colab": {
          "base_uri": "https://localhost:8080/",
          "height": 133
        },
        "outputId": "a623203e-82f3-4464-b450-026499af7e54"
      },
      "execution_count": 31,
      "outputs": [
        {
          "output_type": "error",
          "ename": "SyntaxError",
          "evalue": "ignored",
          "traceback": [
            "\u001b[0;36m  File \u001b[0;32m\"<ipython-input-31-258f5a2452da>\"\u001b[0;36m, line \u001b[0;32m1\u001b[0m\n\u001b[0;31m    FOR MIDDLE BLOCKER\u001b[0m\n\u001b[0m             ^\u001b[0m\n\u001b[0;31mSyntaxError\u001b[0m\u001b[0;31m:\u001b[0m invalid syntax\n"
          ]
        }
      ]
    },
    {
      "cell_type": "code",
      "source": [
        "d = ols('spike ~ height',middle).fit()\n",
        "print(d.summary())"
      ],
      "metadata": {
        "colab": {
          "base_uri": "https://localhost:8080/"
        },
        "id": "To7ZLx-ABQNc",
        "outputId": "9f69c1eb-6601-46b7-82d3-930f1dee9915"
      },
      "execution_count": 32,
      "outputs": [
        {
          "output_type": "stream",
          "name": "stdout",
          "text": [
            "                            OLS Regression Results                            \n",
            "==============================================================================\n",
            "Dep. Variable:                  spike   R-squared:                       0.060\n",
            "Model:                            OLS   Adj. R-squared:                  0.051\n",
            "Method:                 Least Squares   F-statistic:                     6.803\n",
            "Date:                Fri, 10 Jun 2022   Prob (F-statistic):             0.0104\n",
            "Time:                        01:28:56   Log-Likelihood:                -415.63\n",
            "No. Observations:                 108   AIC:                             835.3\n",
            "Df Residuals:                     106   BIC:                             840.6\n",
            "Df Model:                           1                                         \n",
            "Covariance Type:            nonrobust                                         \n",
            "==============================================================================\n",
            "                 coef    std err          t      P>|t|      [0.025      0.975]\n",
            "------------------------------------------------------------------------------\n",
            "Intercept    193.7428     39.604      4.892      0.000     115.224     272.262\n",
            "height         0.5525      0.212      2.608      0.010       0.133       0.972\n",
            "==============================================================================\n",
            "Omnibus:                        9.925   Durbin-Watson:                   1.169\n",
            "Prob(Omnibus):                  0.007   Jarque-Bera (JB):               10.026\n",
            "Skew:                          -0.643   Prob(JB):                      0.00665\n",
            "Kurtosis:                       3.756   Cond. No.                     6.71e+03\n",
            "==============================================================================\n",
            "\n",
            "Warnings:\n",
            "[1] Standard Errors assume that the covariance matrix of the errors is correctly specified.\n",
            "[2] The condition number is large, 6.71e+03. This might indicate that there are\n",
            "strong multicollinearity or other numerical problems.\n"
          ]
        }
      ]
    },
    {
      "cell_type": "code",
      "source": [
        "plt.scatter(middle['spike'], d.fittedvalues)\n",
        "plt.xlabel(\"Middle Spike Height: $Y_i$\")\n",
        "plt.ylabel(\"Predicted Middle Spike Height: $\\hat{Y}_i$\")\n",
        "plt.title(\"Middle Height vs Predicted Middle Spike Height: $Y_i$ vs $\\hat{Y}_i$\")"
      ],
      "metadata": {
        "colab": {
          "base_uri": "https://localhost:8080/",
          "height": 329
        },
        "id": "98umgU2XBoxh",
        "outputId": "9d00a228-dc33-42f5-d5e5-3648c821cb27"
      },
      "execution_count": 33,
      "outputs": [
        {
          "output_type": "execute_result",
          "data": {
            "text/plain": [
              "Text(0.5, 1.0, 'Middle Height vs Predicted Middle Spike Height: $Y_i$ vs $\\\\hat{Y}_i$')"
            ]
          },
          "metadata": {},
          "execution_count": 33
        },
        {
          "output_type": "display_data",
          "data": {
            "text/plain": [
              "<Figure size 432x288 with 1 Axes>"
            ],
            "image/png": "[encoded data removed]"
          },
          "metadata": {}
        }
      ]
    },
    {
      "cell_type": "code",
      "source": [
        "D = middle.drop('spike', axis = 1)\n",
        "lm.fit(D, middle.spike)\n",
        "print('Estimated intercept coefficient:', lm.intercept_)\n",
        "print('Number of coefficients:', len(lm.coef_))\n",
        "zip(D.columns, lm.coef_)\n",
        "pd.DataFrame(zip(D.columns, lm.coef_), columns = ['features', 'estimatedCoefficients'])\n",
        "lm.predict(D)[0:5]\n",
        "plt.scatter(middle['spike'], lm.predict(D))\n",
        "plt.xlabel(\"Middle Spike Height: $Y_i$\")\n",
        "plt.ylabel(\"Predicted Middle Spike Height: $\\hat{Y}_i$\")\n",
        "plt.title(\"Middle Height vs Predicted Middle Spike Height: $Y_i$ vs $\\hat{Y}_i$\")"
      ],
      "metadata": {
        "colab": {
          "base_uri": "https://localhost:8080/",
          "height": 365
        },
        "id": "2MwqfugFBxfI",
        "outputId": "c33daf06-9799-4667-e404-18ae89133aa4"
      },
      "execution_count": 34,
      "outputs": [
        {
          "output_type": "stream",
          "name": "stdout",
          "text": [
            "Estimated intercept coefficient: 52.444229468785124\n",
            "Number of coefficients: 5\n"
          ]
        },
        {
          "output_type": "execute_result",
          "data": {
            "text/plain": [
              "Text(0.5, 1.0, 'Middle Height vs Predicted Middle Spike Height: $Y_i$ vs $\\\\hat{Y}_i$')"
            ]
          },
          "metadata": {},
          "execution_count": 34
        },
        {
          "output_type": "display_data",
          "data": {
            "text/plain": [
              "<Figure size 432x288 with 1 Axes>"
            ],
            "image/png": "[encoded data removed]"
          },
          "metadata": {}
        }
      ]
    },
    {
      "cell_type": "code",
      "source": [
        "## residual sum of squares\n",
        "print(np.sum((middle.spike - lm.predict(D)) ** 2))\n",
        "##mean squared error\n",
        "mseFull = np.mean((middle.spike - lm.predict(D)) ** 2)\n",
        "print(mseFull)"
      ],
      "metadata": {
        "colab": {
          "base_uri": "https://localhost:8080/"
        },
        "id": "IIAX7kfpCmcZ",
        "outputId": "5d3315fe-8ace-4ba0-cc3b-c58fa6e00cf8"
      },
      "execution_count": 35,
      "outputs": [
        {
          "output_type": "stream",
          "name": "stdout",
          "text": [
            "9391.08439947854\n",
            "86.95448518035684\n"
          ]
        }
      ]
    },
    {
      "cell_type": "markdown",
      "source": [
        "FOR LIBEROS"
      ],
      "metadata": {
        "id": "KGf3G3i4Cslj"
      }
    },
    {
      "cell_type": "code",
      "source": [
        "e = ols('spike ~ height',libero).fit()\n",
        "print(e.summary())"
      ],
      "metadata": {
        "id": "DoXG9GdcCr4h",
        "colab": {
          "base_uri": "https://localhost:8080/"
        },
        "outputId": "91992a36-d752-4d56-815c-4c38bcf55d97"
      },
      "execution_count": 36,
      "outputs": [
        {
          "output_type": "stream",
          "name": "stdout",
          "text": [
            "                            OLS Regression Results                            \n",
            "==============================================================================\n",
            "Dep. Variable:                  spike   R-squared:                       0.334\n",
            "Model:                            OLS   Adj. R-squared:                  0.317\n",
            "Method:                 Least Squares   F-statistic:                     20.06\n",
            "Date:                Fri, 10 Jun 2022   Prob (F-statistic):           6.12e-05\n",
            "Time:                        01:29:02   Log-Likelihood:                -185.41\n",
            "No. Observations:                  42   AIC:                             374.8\n",
            "Df Residuals:                      40   BIC:                             378.3\n",
            "Df Model:                           1                                         \n",
            "Covariance Type:            nonrobust                                         \n",
            "==============================================================================\n",
            "                 coef    std err          t      P>|t|      [0.025      0.975]\n",
            "------------------------------------------------------------------------------\n",
            "Intercept   -176.7646     99.797     -1.771      0.084    -378.463      24.934\n",
            "height         2.6094      0.583      4.479      0.000       1.432       3.787\n",
            "==============================================================================\n",
            "Omnibus:                       38.553   Durbin-Watson:                   1.598\n",
            "Prob(Omnibus):                  0.000   Jarque-Bera (JB):              100.193\n",
            "Skew:                          -2.480   Prob(JB):                     1.75e-22\n",
            "Kurtosis:                       8.715   Cond. No.                     5.41e+03\n",
            "==============================================================================\n",
            "\n",
            "Warnings:\n",
            "[1] Standard Errors assume that the covariance matrix of the errors is correctly specified.\n",
            "[2] The condition number is large, 5.41e+03. This might indicate that there are\n",
            "strong multicollinearity or other numerical problems.\n"
          ]
        }
      ]
    },
    {
      "cell_type": "code",
      "source": [
        "plt.scatter(libero['spike'], e.fittedvalues)\n",
        "plt.xlabel(\"Libero Spike Height: $Y_i$\")\n",
        "plt.ylabel(\"Predicted Libero Spike Height: $\\hat{Y}_i$\")\n",
        "plt.title(\"Libero Height vs Predicted Libero Spike Height: $Y_i$ vs $\\hat{Y}_i$\")"
      ],
      "metadata": {
        "colab": {
          "base_uri": "https://localhost:8080/",
          "height": 329
        },
        "id": "GgAv3T1lNkf4",
        "outputId": "27a06c3e-9674-4331-8097-0c47ab60a40a"
      },
      "execution_count": 37,
      "outputs": [
        {
          "output_type": "execute_result",
          "data": {
            "text/plain": [
              "Text(0.5, 1.0, 'Libero Height vs Predicted Libero Spike Height: $Y_i$ vs $\\\\hat{Y}_i$')"
            ]
          },
          "metadata": {},
          "execution_count": 37
        },
        {
          "output_type": "display_data",
          "data": {
            "text/plain": [
              "<Figure size 432x288 with 1 Axes>"
            ],
            "image/png": "[encoded data removed]"
          },
          "metadata": {}
        }
      ]
    },
    {
      "cell_type": "code",
      "source": [
        "E = libero.drop('spike', axis = 1)\n",
        "lm.fit(E, libero.spike)\n",
        "print('Estimated intercept coefficient:', lm.intercept_)\n",
        "print('Number of coefficients:', len(lm.coef_))\n",
        "zip(E.columns, lm.coef_)\n",
        "pd.DataFrame(zip(E.columns, lm.coef_), columns = ['features', 'estimatedCoefficients'])\n",
        "lm.predict(E)[0:5]\n",
        "plt.scatter(libero['spike'], lm.predict(E))\n",
        "plt.xlabel(\"Libero Spike Height: $Y_i$\")\n",
        "plt.ylabel(\"Predicted Libero Spike Height: $\\hat{Y}_i$\")\n",
        "plt.title(\"Libero Height vs Predicted Libero Spike Height: $Y_i$ vs $\\hat{Y}_i$\")"
      ],
      "metadata": {
        "colab": {
          "base_uri": "https://localhost:8080/",
          "height": 365
        },
        "id": "xJOPIhqSNqRd",
        "outputId": "afa47d2e-3b81-4f63-fd81-62693fcb5ae6"
      },
      "execution_count": 38,
      "outputs": [
        {
          "output_type": "stream",
          "name": "stdout",
          "text": [
            "Estimated intercept coefficient: -64.20467949196183\n",
            "Number of coefficients: 5\n"
          ]
        },
        {
          "output_type": "execute_result",
          "data": {
            "text/plain": [
              "Text(0.5, 1.0, 'Libero Height vs Predicted Libero Spike Height: $Y_i$ vs $\\\\hat{Y}_i$')"
            ]
          },
          "metadata": {},
          "execution_count": 38
        },
        {
          "output_type": "display_data",
          "data": {
            "text/plain": [
              "<Figure size 432x288 with 1 Axes>"
            ],
            "image/png": "[encoded data removed]"
          },
          "metadata": {}
        }
      ]
    },
    {
      "cell_type": "code",
      "source": [
        "## residual sum of squares\n",
        "print(np.sum((libero.spike - lm.predict(E)) ** 2))\n",
        "##mean squared error\n",
        "mseFull = np.mean((libero.spike - lm.predict(E)) ** 2)\n",
        "print(mseFull)"
      ],
      "metadata": {
        "colab": {
          "base_uri": "https://localhost:8080/"
        },
        "id": "CYCtu6s_NsMW",
        "outputId": "90fdbaa9-79c0-4767-9f98-97b2ce961c74"
      },
      "execution_count": 39,
      "outputs": [
        {
          "output_type": "stream",
          "name": "stdout",
          "text": [
            "1699.8281277716671\n",
            "40.47209828027777\n"
          ]
        }
      ]
    }
  ]
}